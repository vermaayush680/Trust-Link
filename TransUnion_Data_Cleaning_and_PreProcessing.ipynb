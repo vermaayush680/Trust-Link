{
  "cells": [
    {
      "cell_type": "markdown",
      "metadata": {
        "id": "view-in-github",
        "colab_type": "text"
      },
      "source": [
        "<a href=\"https://colab.research.google.com/github/vermaayush680/Trust-Link/blob/main/TransUnion_Data_Cleaning_and_PreProcessing.ipynb\" target=\"_parent\"><img src=\"https://colab.research.google.com/assets/colab-badge.svg\" alt=\"Open In Colab\"/></a>"
      ]
    },
    {
      "cell_type": "markdown",
      "source": [
        "#Introduction\n",
        "\n",
        "The business problem is to create an intelligent automated machine that is capable of classifying credit scores of the users based on the data given!\n",
        "\n",
        "1. I went through the dataset thoroughly on Excel and found that most of the data is repeated 8 times. The reason for this is that the dataset contains data of users for 8 months Jan to Feb.\n",
        "\n",
        "2. In these 8 months, many features such as **Age**,**Name**,**Annual Income** etc remained the same while some features are continous and have varying values for the same customer.\n",
        "\n",
        "Based on the above points , the below work has been done!!!"
      ],
      "metadata": {
        "id": "B_wgbleXdXD9"
      }
    },
    {
      "cell_type": "markdown",
      "metadata": {
        "id": "ihjwA1eNU7nE"
      },
      "source": [
        "#Unzipping Dataset"
      ]
    },
    {
      "cell_type": "code",
      "execution_count": 1,
      "metadata": {
        "id": "wcxUIPwr-auj",
        "colab": {
          "base_uri": "https://localhost:8080/"
        },
        "outputId": "a2f876a2-18d2-4cd2-eeb7-8c84d3f00674"
      },
      "outputs": [
        {
          "output_type": "stream",
          "name": "stdout",
          "text": [
            "Archive:  /content/fd752804e24411ec.zip\n",
            "   creating: dataset/\n",
            "  inflating: dataset/train.csv       \n",
            "  inflating: dataset/test.csv        \n",
            "  inflating: dataset/sample_submission.csv  \n"
          ]
        }
      ],
      "source": [
        "!unzip '/content/fd752804e24411ec.zip'"
      ]
    },
    {
      "cell_type": "markdown",
      "metadata": {
        "id": "MzSk0tqDXyIK"
      },
      "source": [
        "#Importing Necessary Libraries"
      ]
    },
    {
      "cell_type": "code",
      "execution_count": 2,
      "metadata": {
        "id": "gKQINY06_U1Z"
      },
      "outputs": [],
      "source": [
        "import numpy as np\n",
        "import pandas as pd\n",
        "import matplotlib.pyplot as plt\n",
        "import seaborn as sns\n",
        "import plotly.express as px\n",
        "\n",
        "pd. set_option(\"display.max_rows\", None)"
      ]
    },
    {
      "cell_type": "markdown",
      "metadata": {
        "id": "4WHgmRbQX6vV"
      },
      "source": [
        "#Loading the Training Data"
      ]
    },
    {
      "cell_type": "code",
      "execution_count": 3,
      "metadata": {
        "id": "emGoJ2hK_jjF"
      },
      "outputs": [],
      "source": [
        "df = pd.read_csv('/content/dataset/train.csv',low_memory=False)"
      ]
    },
    {
      "cell_type": "code",
      "execution_count": 4,
      "metadata": {
        "colab": {
          "base_uri": "https://localhost:8080/",
          "height": 0
        },
        "id": "RNFl3xE7_oG5",
        "outputId": "eeb99a1c-84e5-4fd9-e85f-0dba0bea2be1"
      },
      "outputs": [
        {
          "output_type": "execute_result",
          "data": {
            "text/plain": [
              "       ID Customer_ID     Month           Name   Age          SSN Occupation  \\\n",
              "0  0x1602   CUS_0xd40   January  Aaron Maashoh    23  821-00-0265  Scientist   \n",
              "1  0x1603   CUS_0xd40  February  Aaron Maashoh    23  821-00-0265  Scientist   \n",
              "2  0x1604   CUS_0xd40     March  Aaron Maashoh  -500  821-00-0265  Scientist   \n",
              "3  0x1605   CUS_0xd40     April  Aaron Maashoh    23  821-00-0265  Scientist   \n",
              "4  0x1606   CUS_0xd40       May  Aaron Maashoh    23  821-00-0265  Scientist   \n",
              "\n",
              "  Annual_Income  Monthly_Inhand_Salary  Num_Bank_Accounts  ...  Credit_Mix  \\\n",
              "0      19114.12            1824.843333                  3  ...           _   \n",
              "1      19114.12                    NaN                  3  ...        Good   \n",
              "2      19114.12                    NaN                  3  ...        Good   \n",
              "3      19114.12                    NaN                  3  ...        Good   \n",
              "4      19114.12            1824.843333                  3  ...        Good   \n",
              "\n",
              "   Outstanding_Debt Credit_Utilization_Ratio     Credit_History_Age  \\\n",
              "0            809.98                26.822620  22 Years and 1 Months   \n",
              "1            809.98                31.944960                    NaN   \n",
              "2            809.98                28.609352  22 Years and 3 Months   \n",
              "3            809.98                31.377862  22 Years and 4 Months   \n",
              "4            809.98                24.797347  22 Years and 5 Months   \n",
              "\n",
              "   Payment_of_Min_Amount Total_EMI_per_month Amount_invested_monthly  \\\n",
              "0                     No           49.574949       80.41529543900253   \n",
              "1                     No           49.574949      118.28022162236736   \n",
              "2                     No           49.574949         81.699521264648   \n",
              "3                     No           49.574949       199.4580743910713   \n",
              "4                     No           49.574949      41.420153086217326   \n",
              "\n",
              "                  Payment_Behaviour     Monthly_Balance Credit_Score  \n",
              "0   High_spent_Small_value_payments  312.49408867943663         Good  \n",
              "1    Low_spent_Large_value_payments  284.62916249607184         Good  \n",
              "2   Low_spent_Medium_value_payments   331.2098628537912         Good  \n",
              "3    Low_spent_Small_value_payments  223.45130972736786         Good  \n",
              "4  High_spent_Medium_value_payments  341.48923103222177         Good  \n",
              "\n",
              "[5 rows x 28 columns]"
            ],
            "text/html": [
              "\n",
              "  <div id=\"df-bf39daa5-a813-4d94-8cbc-157495f57b3c\">\n",
              "    <div class=\"colab-df-container\">\n",
              "      <div>\n",
              "<style scoped>\n",
              "    .dataframe tbody tr th:only-of-type {\n",
              "        vertical-align: middle;\n",
              "    }\n",
              "\n",
              "    .dataframe tbody tr th {\n",
              "        vertical-align: top;\n",
              "    }\n",
              "\n",
              "    .dataframe thead th {\n",
              "        text-align: right;\n",
              "    }\n",
              "</style>\n",
              "<table border=\"1\" class=\"dataframe\">\n",
              "  <thead>\n",
              "    <tr style=\"text-align: right;\">\n",
              "      <th></th>\n",
              "      <th>ID</th>\n",
              "      <th>Customer_ID</th>\n",
              "      <th>Month</th>\n",
              "      <th>Name</th>\n",
              "      <th>Age</th>\n",
              "      <th>SSN</th>\n",
              "      <th>Occupation</th>\n",
              "      <th>Annual_Income</th>\n",
              "      <th>Monthly_Inhand_Salary</th>\n",
              "      <th>Num_Bank_Accounts</th>\n",
              "      <th>...</th>\n",
              "      <th>Credit_Mix</th>\n",
              "      <th>Outstanding_Debt</th>\n",
              "      <th>Credit_Utilization_Ratio</th>\n",
              "      <th>Credit_History_Age</th>\n",
              "      <th>Payment_of_Min_Amount</th>\n",
              "      <th>Total_EMI_per_month</th>\n",
              "      <th>Amount_invested_monthly</th>\n",
              "      <th>Payment_Behaviour</th>\n",
              "      <th>Monthly_Balance</th>\n",
              "      <th>Credit_Score</th>\n",
              "    </tr>\n",
              "  </thead>\n",
              "  <tbody>\n",
              "    <tr>\n",
              "      <th>0</th>\n",
              "      <td>0x1602</td>\n",
              "      <td>CUS_0xd40</td>\n",
              "      <td>January</td>\n",
              "      <td>Aaron Maashoh</td>\n",
              "      <td>23</td>\n",
              "      <td>821-00-0265</td>\n",
              "      <td>Scientist</td>\n",
              "      <td>19114.12</td>\n",
              "      <td>1824.843333</td>\n",
              "      <td>3</td>\n",
              "      <td>...</td>\n",
              "      <td>_</td>\n",
              "      <td>809.98</td>\n",
              "      <td>26.822620</td>\n",
              "      <td>22 Years and 1 Months</td>\n",
              "      <td>No</td>\n",
              "      <td>49.574949</td>\n",
              "      <td>80.41529543900253</td>\n",
              "      <td>High_spent_Small_value_payments</td>\n",
              "      <td>312.49408867943663</td>\n",
              "      <td>Good</td>\n",
              "    </tr>\n",
              "    <tr>\n",
              "      <th>1</th>\n",
              "      <td>0x1603</td>\n",
              "      <td>CUS_0xd40</td>\n",
              "      <td>February</td>\n",
              "      <td>Aaron Maashoh</td>\n",
              "      <td>23</td>\n",
              "      <td>821-00-0265</td>\n",
              "      <td>Scientist</td>\n",
              "      <td>19114.12</td>\n",
              "      <td>NaN</td>\n",
              "      <td>3</td>\n",
              "      <td>...</td>\n",
              "      <td>Good</td>\n",
              "      <td>809.98</td>\n",
              "      <td>31.944960</td>\n",
              "      <td>NaN</td>\n",
              "      <td>No</td>\n",
              "      <td>49.574949</td>\n",
              "      <td>118.28022162236736</td>\n",
              "      <td>Low_spent_Large_value_payments</td>\n",
              "      <td>284.62916249607184</td>\n",
              "      <td>Good</td>\n",
              "    </tr>\n",
              "    <tr>\n",
              "      <th>2</th>\n",
              "      <td>0x1604</td>\n",
              "      <td>CUS_0xd40</td>\n",
              "      <td>March</td>\n",
              "      <td>Aaron Maashoh</td>\n",
              "      <td>-500</td>\n",
              "      <td>821-00-0265</td>\n",
              "      <td>Scientist</td>\n",
              "      <td>19114.12</td>\n",
              "      <td>NaN</td>\n",
              "      <td>3</td>\n",
              "      <td>...</td>\n",
              "      <td>Good</td>\n",
              "      <td>809.98</td>\n",
              "      <td>28.609352</td>\n",
              "      <td>22 Years and 3 Months</td>\n",
              "      <td>No</td>\n",
              "      <td>49.574949</td>\n",
              "      <td>81.699521264648</td>\n",
              "      <td>Low_spent_Medium_value_payments</td>\n",
              "      <td>331.2098628537912</td>\n",
              "      <td>Good</td>\n",
              "    </tr>\n",
              "    <tr>\n",
              "      <th>3</th>\n",
              "      <td>0x1605</td>\n",
              "      <td>CUS_0xd40</td>\n",
              "      <td>April</td>\n",
              "      <td>Aaron Maashoh</td>\n",
              "      <td>23</td>\n",
              "      <td>821-00-0265</td>\n",
              "      <td>Scientist</td>\n",
              "      <td>19114.12</td>\n",
              "      <td>NaN</td>\n",
              "      <td>3</td>\n",
              "      <td>...</td>\n",
              "      <td>Good</td>\n",
              "      <td>809.98</td>\n",
              "      <td>31.377862</td>\n",
              "      <td>22 Years and 4 Months</td>\n",
              "      <td>No</td>\n",
              "      <td>49.574949</td>\n",
              "      <td>199.4580743910713</td>\n",
              "      <td>Low_spent_Small_value_payments</td>\n",
              "      <td>223.45130972736786</td>\n",
              "      <td>Good</td>\n",
              "    </tr>\n",
              "    <tr>\n",
              "      <th>4</th>\n",
              "      <td>0x1606</td>\n",
              "      <td>CUS_0xd40</td>\n",
              "      <td>May</td>\n",
              "      <td>Aaron Maashoh</td>\n",
              "      <td>23</td>\n",
              "      <td>821-00-0265</td>\n",
              "      <td>Scientist</td>\n",
              "      <td>19114.12</td>\n",
              "      <td>1824.843333</td>\n",
              "      <td>3</td>\n",
              "      <td>...</td>\n",
              "      <td>Good</td>\n",
              "      <td>809.98</td>\n",
              "      <td>24.797347</td>\n",
              "      <td>22 Years and 5 Months</td>\n",
              "      <td>No</td>\n",
              "      <td>49.574949</td>\n",
              "      <td>41.420153086217326</td>\n",
              "      <td>High_spent_Medium_value_payments</td>\n",
              "      <td>341.48923103222177</td>\n",
              "      <td>Good</td>\n",
              "    </tr>\n",
              "  </tbody>\n",
              "</table>\n",
              "<p>5 rows × 28 columns</p>\n",
              "</div>\n",
              "      <button class=\"colab-df-convert\" onclick=\"convertToInteractive('df-bf39daa5-a813-4d94-8cbc-157495f57b3c')\"\n",
              "              title=\"Convert this dataframe to an interactive table.\"\n",
              "              style=\"display:none;\">\n",
              "        \n",
              "  <svg xmlns=\"http://www.w3.org/2000/svg\" height=\"24px\"viewBox=\"0 0 24 24\"\n",
              "       width=\"24px\">\n",
              "    <path d=\"M0 0h24v24H0V0z\" fill=\"none\"/>\n",
              "    <path d=\"M18.56 5.44l.94 2.06.94-2.06 2.06-.94-2.06-.94-.94-2.06-.94 2.06-2.06.94zm-11 1L8.5 8.5l.94-2.06 2.06-.94-2.06-.94L8.5 2.5l-.94 2.06-2.06.94zm10 10l.94 2.06.94-2.06 2.06-.94-2.06-.94-.94-2.06-.94 2.06-2.06.94z\"/><path d=\"M17.41 7.96l-1.37-1.37c-.4-.4-.92-.59-1.43-.59-.52 0-1.04.2-1.43.59L10.3 9.45l-7.72 7.72c-.78.78-.78 2.05 0 2.83L4 21.41c.39.39.9.59 1.41.59.51 0 1.02-.2 1.41-.59l7.78-7.78 2.81-2.81c.8-.78.8-2.07 0-2.86zM5.41 20L4 18.59l7.72-7.72 1.47 1.35L5.41 20z\"/>\n",
              "  </svg>\n",
              "      </button>\n",
              "      \n",
              "  <style>\n",
              "    .colab-df-container {\n",
              "      display:flex;\n",
              "      flex-wrap:wrap;\n",
              "      gap: 12px;\n",
              "    }\n",
              "\n",
              "    .colab-df-convert {\n",
              "      background-color: #E8F0FE;\n",
              "      border: none;\n",
              "      border-radius: 50%;\n",
              "      cursor: pointer;\n",
              "      display: none;\n",
              "      fill: #1967D2;\n",
              "      height: 32px;\n",
              "      padding: 0 0 0 0;\n",
              "      width: 32px;\n",
              "    }\n",
              "\n",
              "    .colab-df-convert:hover {\n",
              "      background-color: #E2EBFA;\n",
              "      box-shadow: 0px 1px 2px rgba(60, 64, 67, 0.3), 0px 1px 3px 1px rgba(60, 64, 67, 0.15);\n",
              "      fill: #174EA6;\n",
              "    }\n",
              "\n",
              "    [theme=dark] .colab-df-convert {\n",
              "      background-color: #3B4455;\n",
              "      fill: #D2E3FC;\n",
              "    }\n",
              "\n",
              "    [theme=dark] .colab-df-convert:hover {\n",
              "      background-color: #434B5C;\n",
              "      box-shadow: 0px 1px 3px 1px rgba(0, 0, 0, 0.15);\n",
              "      filter: drop-shadow(0px 1px 2px rgba(0, 0, 0, 0.3));\n",
              "      fill: #FFFFFF;\n",
              "    }\n",
              "  </style>\n",
              "\n",
              "      <script>\n",
              "        const buttonEl =\n",
              "          document.querySelector('#df-bf39daa5-a813-4d94-8cbc-157495f57b3c button.colab-df-convert');\n",
              "        buttonEl.style.display =\n",
              "          google.colab.kernel.accessAllowed ? 'block' : 'none';\n",
              "\n",
              "        async function convertToInteractive(key) {\n",
              "          const element = document.querySelector('#df-bf39daa5-a813-4d94-8cbc-157495f57b3c');\n",
              "          const dataTable =\n",
              "            await google.colab.kernel.invokeFunction('convertToInteractive',\n",
              "                                                     [key], {});\n",
              "          if (!dataTable) return;\n",
              "\n",
              "          const docLinkHtml = 'Like what you see? Visit the ' +\n",
              "            '<a target=\"_blank\" href=https://colab.research.google.com/notebooks/data_table.ipynb>data table notebook</a>'\n",
              "            + ' to learn more about interactive tables.';\n",
              "          element.innerHTML = '';\n",
              "          dataTable['output_type'] = 'display_data';\n",
              "          await google.colab.output.renderOutput(dataTable, element);\n",
              "          const docLink = document.createElement('div');\n",
              "          docLink.innerHTML = docLinkHtml;\n",
              "          element.appendChild(docLink);\n",
              "        }\n",
              "      </script>\n",
              "    </div>\n",
              "  </div>\n",
              "  "
            ]
          },
          "metadata": {},
          "execution_count": 4
        }
      ],
      "source": [
        "df.head()"
      ]
    },
    {
      "cell_type": "code",
      "execution_count": 5,
      "metadata": {
        "colab": {
          "base_uri": "https://localhost:8080/"
        },
        "id": "Nqkc_GBmAuW8",
        "outputId": "79364bda-667e-4735-b937-31843185ed45"
      },
      "outputs": [
        {
          "output_type": "stream",
          "name": "stdout",
          "text": [
            "<class 'pandas.core.frame.DataFrame'>\n",
            "RangeIndex: 100000 entries, 0 to 99999\n",
            "Data columns (total 28 columns):\n",
            " #   Column                    Non-Null Count   Dtype  \n",
            "---  ------                    --------------   -----  \n",
            " 0   ID                        100000 non-null  object \n",
            " 1   Customer_ID               100000 non-null  object \n",
            " 2   Month                     100000 non-null  object \n",
            " 3   Name                      90015 non-null   object \n",
            " 4   Age                       100000 non-null  object \n",
            " 5   SSN                       100000 non-null  object \n",
            " 6   Occupation                100000 non-null  object \n",
            " 7   Annual_Income             100000 non-null  object \n",
            " 8   Monthly_Inhand_Salary     84998 non-null   float64\n",
            " 9   Num_Bank_Accounts         100000 non-null  int64  \n",
            " 10  Num_Credit_Card           100000 non-null  int64  \n",
            " 11  Interest_Rate             100000 non-null  int64  \n",
            " 12  Num_of_Loan               100000 non-null  object \n",
            " 13  Type_of_Loan              88592 non-null   object \n",
            " 14  Delay_from_due_date       100000 non-null  int64  \n",
            " 15  Num_of_Delayed_Payment    92998 non-null   object \n",
            " 16  Changed_Credit_Limit      100000 non-null  object \n",
            " 17  Num_Credit_Inquiries      98035 non-null   float64\n",
            " 18  Credit_Mix                100000 non-null  object \n",
            " 19  Outstanding_Debt          100000 non-null  object \n",
            " 20  Credit_Utilization_Ratio  100000 non-null  float64\n",
            " 21  Credit_History_Age        90970 non-null   object \n",
            " 22  Payment_of_Min_Amount     100000 non-null  object \n",
            " 23  Total_EMI_per_month       100000 non-null  float64\n",
            " 24  Amount_invested_monthly   95521 non-null   object \n",
            " 25  Payment_Behaviour         100000 non-null  object \n",
            " 26  Monthly_Balance           98800 non-null   object \n",
            " 27  Credit_Score              100000 non-null  object \n",
            "dtypes: float64(4), int64(4), object(20)\n",
            "memory usage: 21.4+ MB\n"
          ]
        }
      ],
      "source": [
        "df.info()"
      ]
    },
    {
      "cell_type": "markdown",
      "metadata": {
        "id": "giEUjtRCX_UL"
      },
      "source": [
        "#Data Cleaning"
      ]
    },
    {
      "cell_type": "code",
      "execution_count": 6,
      "metadata": {
        "colab": {
          "base_uri": "https://localhost:8080/"
        },
        "id": "_2ravjMr_uIL",
        "outputId": "b0fc19d5-1673-43d8-f0e3-631a2135b7ca"
      },
      "outputs": [
        {
          "output_type": "execute_result",
          "data": {
            "text/plain": [
              "ID                              0\n",
              "Customer_ID                     0\n",
              "Month                           0\n",
              "Name                         9985\n",
              "Age                             0\n",
              "SSN                             0\n",
              "Occupation                      0\n",
              "Annual_Income                   0\n",
              "Monthly_Inhand_Salary       15002\n",
              "Num_Bank_Accounts               0\n",
              "Num_Credit_Card                 0\n",
              "Interest_Rate                   0\n",
              "Num_of_Loan                     0\n",
              "Type_of_Loan                11408\n",
              "Delay_from_due_date             0\n",
              "Num_of_Delayed_Payment       7002\n",
              "Changed_Credit_Limit            0\n",
              "Num_Credit_Inquiries         1965\n",
              "Credit_Mix                      0\n",
              "Outstanding_Debt                0\n",
              "Credit_Utilization_Ratio        0\n",
              "Credit_History_Age           9030\n",
              "Payment_of_Min_Amount           0\n",
              "Total_EMI_per_month             0\n",
              "Amount_invested_monthly      4479\n",
              "Payment_Behaviour               0\n",
              "Monthly_Balance              1200\n",
              "Credit_Score                    0\n",
              "dtype: int64"
            ]
          },
          "metadata": {},
          "execution_count": 6
        }
      ],
      "source": [
        "df.isnull().sum()"
      ]
    },
    {
      "cell_type": "markdown",
      "metadata": {
        "id": "XLtbF7TjpZhl"
      },
      "source": [
        "## Finding % of Null Data"
      ]
    },
    {
      "cell_type": "code",
      "execution_count": 7,
      "metadata": {
        "colab": {
          "base_uri": "https://localhost:8080/"
        },
        "id": "nzILUxib_3hK",
        "outputId": "ea39acba-a032-44ad-a9e4-0b7b9f71cafe"
      },
      "outputs": [
        {
          "output_type": "stream",
          "name": "stdout",
          "text": [
            "Total Percentage Null Data : 2.1453928571428573\n"
          ]
        }
      ],
      "source": [
        "total_null = df.isnull().sum().sum()\n",
        "total = np.product(df.shape)\n",
        "\n",
        "percent_null = total_null / total * 100\n",
        "\n",
        "print(f\"Total Percentage Null Data : {percent_null}\")"
      ]
    },
    {
      "cell_type": "markdown",
      "metadata": {
        "id": "H4UssJy8ASlT"
      },
      "source": [
        "Our dataset has Months from January to August for each customer.\n",
        "So instead of dropping the data, I will be filling it."
      ]
    },
    {
      "cell_type": "code",
      "execution_count": 8,
      "metadata": {
        "colab": {
          "base_uri": "https://localhost:8080/"
        },
        "id": "3BZrtbvhASBN",
        "outputId": "d50cd6e1-876b-4808-c27e-ca8a084dedb5"
      },
      "outputs": [
        {
          "output_type": "execute_result",
          "data": {
            "text/plain": [
              "ID                          100000\n",
              "Customer_ID                  12500\n",
              "Month                            8\n",
              "Name                         10139\n",
              "Age                           1788\n",
              "SSN                          12501\n",
              "Occupation                      16\n",
              "Annual_Income                18940\n",
              "Monthly_Inhand_Salary        13235\n",
              "Num_Bank_Accounts              943\n",
              "Num_Credit_Card               1179\n",
              "Interest_Rate                 1750\n",
              "Num_of_Loan                    434\n",
              "Type_of_Loan                  6260\n",
              "Delay_from_due_date             73\n",
              "Num_of_Delayed_Payment         749\n",
              "Changed_Credit_Limit          4384\n",
              "Num_Credit_Inquiries          1223\n",
              "Credit_Mix                       4\n",
              "Outstanding_Debt             13178\n",
              "Credit_Utilization_Ratio    100000\n",
              "Credit_History_Age             404\n",
              "Payment_of_Min_Amount            3\n",
              "Total_EMI_per_month          14950\n",
              "Amount_invested_monthly      91049\n",
              "Payment_Behaviour                7\n",
              "Monthly_Balance              98792\n",
              "Credit_Score                     3\n",
              "dtype: int64"
            ]
          },
          "metadata": {},
          "execution_count": 8
        }
      ],
      "source": [
        "df.nunique()"
      ]
    },
    {
      "cell_type": "markdown",
      "metadata": {
        "id": "UKqhR3HtF23T"
      },
      "source": [
        "We have 8 repeated months and this is what we'll use for most column filling as most of the data is repaating for a customer"
      ]
    },
    {
      "cell_type": "markdown",
      "metadata": {
        "id": "SR6itBt2pe8T"
      },
      "source": [
        "## Name Column Filling"
      ]
    },
    {
      "cell_type": "code",
      "execution_count": 9,
      "metadata": {
        "colab": {
          "base_uri": "https://localhost:8080/"
        },
        "id": "maCwqw34AORs",
        "outputId": "cd8e53c6-3b90-4b76-da22-31cf47cf3ea3"
      },
      "outputs": [
        {
          "output_type": "execute_result",
          "data": {
            "text/plain": [
              "9985"
            ]
          },
          "metadata": {},
          "execution_count": 9
        }
      ],
      "source": [
        "df['Name'].isnull().sum()"
      ]
    },
    {
      "cell_type": "code",
      "execution_count": 10,
      "metadata": {
        "id": "Cn1FvTMHK9ti"
      },
      "outputs": [],
      "source": [
        "def fillnull(data=df,col=None):\n",
        "  for i in range(data.shape[0]):\n",
        "    if type(data.loc[i,col]) != str:\n",
        "      if data.loc[i,'Month'] != 'August':\n",
        "        j=i+1\n",
        "        while(type(data.loc[j,col]) != str):\n",
        "          j+=1\n",
        "        data.loc[i,col]=data.loc[j,col]\n",
        "      else:\n",
        "        data.loc[i,col]=data.loc[i-1,col]\n",
        "  return data"
      ]
    },
    {
      "cell_type": "code",
      "execution_count": 11,
      "metadata": {
        "id": "iiLicWHcZFfY"
      },
      "outputs": [],
      "source": [
        "df = fillnull(data=df,col='Name')"
      ]
    },
    {
      "cell_type": "code",
      "execution_count": 12,
      "metadata": {
        "colab": {
          "base_uri": "https://localhost:8080/"
        },
        "id": "xlRY-8hyOK-_",
        "outputId": "23175dfb-904a-41a1-d155-7182623830dd"
      },
      "outputs": [
        {
          "output_type": "execute_result",
          "data": {
            "text/plain": [
              "0"
            ]
          },
          "metadata": {},
          "execution_count": 12
        }
      ],
      "source": [
        "df['Name'].isnull().sum()"
      ]
    },
    {
      "cell_type": "markdown",
      "metadata": {
        "id": "PeB6H_xzpoiL"
      },
      "source": [
        "## Monthly Inhand Salary Column Filling"
      ]
    },
    {
      "cell_type": "code",
      "execution_count": 13,
      "metadata": {
        "colab": {
          "base_uri": "https://localhost:8080/"
        },
        "id": "piEXLaQrZjrS",
        "outputId": "01f328e4-62b7-4263-b921-dba9f797178e"
      },
      "outputs": [
        {
          "output_type": "stream",
          "name": "stdout",
          "text": [
            "Aaron Maashoh 1824.8433333333328 <class 'numpy.float64'>\n",
            "Aaron Maashoh nan <class 'numpy.float64'>\n",
            "Aaron Maashoh nan <class 'numpy.float64'>\n",
            "Aaron Maashoh nan <class 'numpy.float64'>\n",
            "Aaron Maashoh 1824.8433333333328 <class 'numpy.float64'>\n",
            "Aaron Maashoh nan <class 'numpy.float64'>\n",
            "Aaron Maashoh 1824.8433333333328 <class 'numpy.float64'>\n",
            "Aaron Maashoh 1824.8433333333328 <class 'numpy.float64'>\n",
            "Rick Rothackerj 3037.986666666666 <class 'numpy.float64'>\n",
            "Rick Rothackerj 3037.986666666666 <class 'numpy.float64'>\n"
          ]
        }
      ],
      "source": [
        "for i in range(10):\n",
        "  print(df.loc[i,'Name'],df.loc[i,'Monthly_Inhand_Salary'],type(df.loc[i,'Monthly_Inhand_Salary']))"
      ]
    },
    {
      "cell_type": "code",
      "execution_count": 14,
      "metadata": {
        "id": "yixnUxtVbWJX"
      },
      "outputs": [],
      "source": [
        "df['Monthly_Inhand_Salary']=df['Monthly_Inhand_Salary'].fillna(\"NAN\")"
      ]
    },
    {
      "cell_type": "markdown",
      "metadata": {
        "id": "nhbJMY1pGJOw"
      },
      "source": [
        "Filling with a random value for easier filtering"
      ]
    },
    {
      "cell_type": "markdown",
      "source": [
        "<a name=\"main\"></a>\n",
        "\n",
        "### Function to fill Values\n"
      ],
      "metadata": {
        "id": "EmhS5AroMwHI"
      }
    },
    {
      "cell_type": "code",
      "source": [
        "def fillvalues(data=None,col=None):\n",
        "  data[col] = data[col].fillna('NAN')\n",
        "  for i in range(data.shape[0]):\n",
        "    if data.loc[i,col] == 'NAN':\n",
        "      j=i+1\n",
        "      if data.loc[i,'Customer_ID'] == data.loc[j,'Customer_ID']:\n",
        "        while(data.loc[j,col] == 'NAN'):\n",
        "          j+=1\n",
        "        data.loc[i,col]=data.loc[j,col]\n",
        "\n",
        "  for i in range(data.shape[0]):\n",
        "    if data.loc[i,col] == 'NAN':\n",
        "      j=i-1\n",
        "      if data.loc[i,'Customer_ID'] == data.loc[j,'Customer_ID']:\n",
        "        data.loc[i,col]=data.loc[j,col]\n",
        "  return data"
      ],
      "metadata": {
        "id": "xCUZ0-PXLaSY"
      },
      "execution_count": 15,
      "outputs": []
    },
    {
      "cell_type": "code",
      "execution_count": 16,
      "metadata": {
        "id": "uP9S4gE7v11E"
      },
      "outputs": [],
      "source": [
        "df = fillvalues(data=df,col='Monthly_Inhand_Salary')"
      ]
    },
    {
      "cell_type": "code",
      "execution_count": 17,
      "metadata": {
        "colab": {
          "base_uri": "https://localhost:8080/",
          "height": 0
        },
        "id": "CLJk1iNqpSHl",
        "outputId": "600db6ce-4e47-4c24-bf39-2a045c7914b9"
      },
      "outputs": [
        {
          "output_type": "execute_result",
          "data": {
            "text/plain": [
              "       ID Customer_ID     Month           Name   Age          SSN Occupation  \\\n",
              "0  0x1602   CUS_0xd40   January  Aaron Maashoh    23  821-00-0265  Scientist   \n",
              "1  0x1603   CUS_0xd40  February  Aaron Maashoh    23  821-00-0265  Scientist   \n",
              "2  0x1604   CUS_0xd40     March  Aaron Maashoh  -500  821-00-0265  Scientist   \n",
              "3  0x1605   CUS_0xd40     April  Aaron Maashoh    23  821-00-0265  Scientist   \n",
              "4  0x1606   CUS_0xd40       May  Aaron Maashoh    23  821-00-0265  Scientist   \n",
              "\n",
              "  Annual_Income Monthly_Inhand_Salary  Num_Bank_Accounts  ...  Credit_Mix  \\\n",
              "0      19114.12           1824.843333                  3  ...           _   \n",
              "1      19114.12           1824.843333                  3  ...        Good   \n",
              "2      19114.12           1824.843333                  3  ...        Good   \n",
              "3      19114.12           1824.843333                  3  ...        Good   \n",
              "4      19114.12           1824.843333                  3  ...        Good   \n",
              "\n",
              "   Outstanding_Debt Credit_Utilization_Ratio     Credit_History_Age  \\\n",
              "0            809.98                26.822620  22 Years and 1 Months   \n",
              "1            809.98                31.944960                    NaN   \n",
              "2            809.98                28.609352  22 Years and 3 Months   \n",
              "3            809.98                31.377862  22 Years and 4 Months   \n",
              "4            809.98                24.797347  22 Years and 5 Months   \n",
              "\n",
              "   Payment_of_Min_Amount Total_EMI_per_month Amount_invested_monthly  \\\n",
              "0                     No           49.574949       80.41529543900253   \n",
              "1                     No           49.574949      118.28022162236736   \n",
              "2                     No           49.574949         81.699521264648   \n",
              "3                     No           49.574949       199.4580743910713   \n",
              "4                     No           49.574949      41.420153086217326   \n",
              "\n",
              "                  Payment_Behaviour     Monthly_Balance Credit_Score  \n",
              "0   High_spent_Small_value_payments  312.49408867943663         Good  \n",
              "1    Low_spent_Large_value_payments  284.62916249607184         Good  \n",
              "2   Low_spent_Medium_value_payments   331.2098628537912         Good  \n",
              "3    Low_spent_Small_value_payments  223.45130972736786         Good  \n",
              "4  High_spent_Medium_value_payments  341.48923103222177         Good  \n",
              "\n",
              "[5 rows x 28 columns]"
            ],
            "text/html": [
              "\n",
              "  <div id=\"df-6814cb9e-115e-4837-8f52-37c9d4987e9f\">\n",
              "    <div class=\"colab-df-container\">\n",
              "      <div>\n",
              "<style scoped>\n",
              "    .dataframe tbody tr th:only-of-type {\n",
              "        vertical-align: middle;\n",
              "    }\n",
              "\n",
              "    .dataframe tbody tr th {\n",
              "        vertical-align: top;\n",
              "    }\n",
              "\n",
              "    .dataframe thead th {\n",
              "        text-align: right;\n",
              "    }\n",
              "</style>\n",
              "<table border=\"1\" class=\"dataframe\">\n",
              "  <thead>\n",
              "    <tr style=\"text-align: right;\">\n",
              "      <th></th>\n",
              "      <th>ID</th>\n",
              "      <th>Customer_ID</th>\n",
              "      <th>Month</th>\n",
              "      <th>Name</th>\n",
              "      <th>Age</th>\n",
              "      <th>SSN</th>\n",
              "      <th>Occupation</th>\n",
              "      <th>Annual_Income</th>\n",
              "      <th>Monthly_Inhand_Salary</th>\n",
              "      <th>Num_Bank_Accounts</th>\n",
              "      <th>...</th>\n",
              "      <th>Credit_Mix</th>\n",
              "      <th>Outstanding_Debt</th>\n",
              "      <th>Credit_Utilization_Ratio</th>\n",
              "      <th>Credit_History_Age</th>\n",
              "      <th>Payment_of_Min_Amount</th>\n",
              "      <th>Total_EMI_per_month</th>\n",
              "      <th>Amount_invested_monthly</th>\n",
              "      <th>Payment_Behaviour</th>\n",
              "      <th>Monthly_Balance</th>\n",
              "      <th>Credit_Score</th>\n",
              "    </tr>\n",
              "  </thead>\n",
              "  <tbody>\n",
              "    <tr>\n",
              "      <th>0</th>\n",
              "      <td>0x1602</td>\n",
              "      <td>CUS_0xd40</td>\n",
              "      <td>January</td>\n",
              "      <td>Aaron Maashoh</td>\n",
              "      <td>23</td>\n",
              "      <td>821-00-0265</td>\n",
              "      <td>Scientist</td>\n",
              "      <td>19114.12</td>\n",
              "      <td>1824.843333</td>\n",
              "      <td>3</td>\n",
              "      <td>...</td>\n",
              "      <td>_</td>\n",
              "      <td>809.98</td>\n",
              "      <td>26.822620</td>\n",
              "      <td>22 Years and 1 Months</td>\n",
              "      <td>No</td>\n",
              "      <td>49.574949</td>\n",
              "      <td>80.41529543900253</td>\n",
              "      <td>High_spent_Small_value_payments</td>\n",
              "      <td>312.49408867943663</td>\n",
              "      <td>Good</td>\n",
              "    </tr>\n",
              "    <tr>\n",
              "      <th>1</th>\n",
              "      <td>0x1603</td>\n",
              "      <td>CUS_0xd40</td>\n",
              "      <td>February</td>\n",
              "      <td>Aaron Maashoh</td>\n",
              "      <td>23</td>\n",
              "      <td>821-00-0265</td>\n",
              "      <td>Scientist</td>\n",
              "      <td>19114.12</td>\n",
              "      <td>1824.843333</td>\n",
              "      <td>3</td>\n",
              "      <td>...</td>\n",
              "      <td>Good</td>\n",
              "      <td>809.98</td>\n",
              "      <td>31.944960</td>\n",
              "      <td>NaN</td>\n",
              "      <td>No</td>\n",
              "      <td>49.574949</td>\n",
              "      <td>118.28022162236736</td>\n",
              "      <td>Low_spent_Large_value_payments</td>\n",
              "      <td>284.62916249607184</td>\n",
              "      <td>Good</td>\n",
              "    </tr>\n",
              "    <tr>\n",
              "      <th>2</th>\n",
              "      <td>0x1604</td>\n",
              "      <td>CUS_0xd40</td>\n",
              "      <td>March</td>\n",
              "      <td>Aaron Maashoh</td>\n",
              "      <td>-500</td>\n",
              "      <td>821-00-0265</td>\n",
              "      <td>Scientist</td>\n",
              "      <td>19114.12</td>\n",
              "      <td>1824.843333</td>\n",
              "      <td>3</td>\n",
              "      <td>...</td>\n",
              "      <td>Good</td>\n",
              "      <td>809.98</td>\n",
              "      <td>28.609352</td>\n",
              "      <td>22 Years and 3 Months</td>\n",
              "      <td>No</td>\n",
              "      <td>49.574949</td>\n",
              "      <td>81.699521264648</td>\n",
              "      <td>Low_spent_Medium_value_payments</td>\n",
              "      <td>331.2098628537912</td>\n",
              "      <td>Good</td>\n",
              "    </tr>\n",
              "    <tr>\n",
              "      <th>3</th>\n",
              "      <td>0x1605</td>\n",
              "      <td>CUS_0xd40</td>\n",
              "      <td>April</td>\n",
              "      <td>Aaron Maashoh</td>\n",
              "      <td>23</td>\n",
              "      <td>821-00-0265</td>\n",
              "      <td>Scientist</td>\n",
              "      <td>19114.12</td>\n",
              "      <td>1824.843333</td>\n",
              "      <td>3</td>\n",
              "      <td>...</td>\n",
              "      <td>Good</td>\n",
              "      <td>809.98</td>\n",
              "      <td>31.377862</td>\n",
              "      <td>22 Years and 4 Months</td>\n",
              "      <td>No</td>\n",
              "      <td>49.574949</td>\n",
              "      <td>199.4580743910713</td>\n",
              "      <td>Low_spent_Small_value_payments</td>\n",
              "      <td>223.45130972736786</td>\n",
              "      <td>Good</td>\n",
              "    </tr>\n",
              "    <tr>\n",
              "      <th>4</th>\n",
              "      <td>0x1606</td>\n",
              "      <td>CUS_0xd40</td>\n",
              "      <td>May</td>\n",
              "      <td>Aaron Maashoh</td>\n",
              "      <td>23</td>\n",
              "      <td>821-00-0265</td>\n",
              "      <td>Scientist</td>\n",
              "      <td>19114.12</td>\n",
              "      <td>1824.843333</td>\n",
              "      <td>3</td>\n",
              "      <td>...</td>\n",
              "      <td>Good</td>\n",
              "      <td>809.98</td>\n",
              "      <td>24.797347</td>\n",
              "      <td>22 Years and 5 Months</td>\n",
              "      <td>No</td>\n",
              "      <td>49.574949</td>\n",
              "      <td>41.420153086217326</td>\n",
              "      <td>High_spent_Medium_value_payments</td>\n",
              "      <td>341.48923103222177</td>\n",
              "      <td>Good</td>\n",
              "    </tr>\n",
              "  </tbody>\n",
              "</table>\n",
              "<p>5 rows × 28 columns</p>\n",
              "</div>\n",
              "      <button class=\"colab-df-convert\" onclick=\"convertToInteractive('df-6814cb9e-115e-4837-8f52-37c9d4987e9f')\"\n",
              "              title=\"Convert this dataframe to an interactive table.\"\n",
              "              style=\"display:none;\">\n",
              "        \n",
              "  <svg xmlns=\"http://www.w3.org/2000/svg\" height=\"24px\"viewBox=\"0 0 24 24\"\n",
              "       width=\"24px\">\n",
              "    <path d=\"M0 0h24v24H0V0z\" fill=\"none\"/>\n",
              "    <path d=\"M18.56 5.44l.94 2.06.94-2.06 2.06-.94-2.06-.94-.94-2.06-.94 2.06-2.06.94zm-11 1L8.5 8.5l.94-2.06 2.06-.94-2.06-.94L8.5 2.5l-.94 2.06-2.06.94zm10 10l.94 2.06.94-2.06 2.06-.94-2.06-.94-.94-2.06-.94 2.06-2.06.94z\"/><path d=\"M17.41 7.96l-1.37-1.37c-.4-.4-.92-.59-1.43-.59-.52 0-1.04.2-1.43.59L10.3 9.45l-7.72 7.72c-.78.78-.78 2.05 0 2.83L4 21.41c.39.39.9.59 1.41.59.51 0 1.02-.2 1.41-.59l7.78-7.78 2.81-2.81c.8-.78.8-2.07 0-2.86zM5.41 20L4 18.59l7.72-7.72 1.47 1.35L5.41 20z\"/>\n",
              "  </svg>\n",
              "      </button>\n",
              "      \n",
              "  <style>\n",
              "    .colab-df-container {\n",
              "      display:flex;\n",
              "      flex-wrap:wrap;\n",
              "      gap: 12px;\n",
              "    }\n",
              "\n",
              "    .colab-df-convert {\n",
              "      background-color: #E8F0FE;\n",
              "      border: none;\n",
              "      border-radius: 50%;\n",
              "      cursor: pointer;\n",
              "      display: none;\n",
              "      fill: #1967D2;\n",
              "      height: 32px;\n",
              "      padding: 0 0 0 0;\n",
              "      width: 32px;\n",
              "    }\n",
              "\n",
              "    .colab-df-convert:hover {\n",
              "      background-color: #E2EBFA;\n",
              "      box-shadow: 0px 1px 2px rgba(60, 64, 67, 0.3), 0px 1px 3px 1px rgba(60, 64, 67, 0.15);\n",
              "      fill: #174EA6;\n",
              "    }\n",
              "\n",
              "    [theme=dark] .colab-df-convert {\n",
              "      background-color: #3B4455;\n",
              "      fill: #D2E3FC;\n",
              "    }\n",
              "\n",
              "    [theme=dark] .colab-df-convert:hover {\n",
              "      background-color: #434B5C;\n",
              "      box-shadow: 0px 1px 3px 1px rgba(0, 0, 0, 0.15);\n",
              "      filter: drop-shadow(0px 1px 2px rgba(0, 0, 0, 0.3));\n",
              "      fill: #FFFFFF;\n",
              "    }\n",
              "  </style>\n",
              "\n",
              "      <script>\n",
              "        const buttonEl =\n",
              "          document.querySelector('#df-6814cb9e-115e-4837-8f52-37c9d4987e9f button.colab-df-convert');\n",
              "        buttonEl.style.display =\n",
              "          google.colab.kernel.accessAllowed ? 'block' : 'none';\n",
              "\n",
              "        async function convertToInteractive(key) {\n",
              "          const element = document.querySelector('#df-6814cb9e-115e-4837-8f52-37c9d4987e9f');\n",
              "          const dataTable =\n",
              "            await google.colab.kernel.invokeFunction('convertToInteractive',\n",
              "                                                     [key], {});\n",
              "          if (!dataTable) return;\n",
              "\n",
              "          const docLinkHtml = 'Like what you see? Visit the ' +\n",
              "            '<a target=\"_blank\" href=https://colab.research.google.com/notebooks/data_table.ipynb>data table notebook</a>'\n",
              "            + ' to learn more about interactive tables.';\n",
              "          element.innerHTML = '';\n",
              "          dataTable['output_type'] = 'display_data';\n",
              "          await google.colab.output.renderOutput(dataTable, element);\n",
              "          const docLink = document.createElement('div');\n",
              "          docLink.innerHTML = docLinkHtml;\n",
              "          element.appendChild(docLink);\n",
              "        }\n",
              "      </script>\n",
              "    </div>\n",
              "  </div>\n",
              "  "
            ]
          },
          "metadata": {},
          "execution_count": 17
        }
      ],
      "source": [
        "df.head()"
      ]
    },
    {
      "cell_type": "code",
      "execution_count": 18,
      "metadata": {
        "colab": {
          "base_uri": "https://localhost:8080/",
          "height": 0
        },
        "id": "VNx3EFGygXhc",
        "outputId": "82e2af56-e474-4fe8-df2f-348a900b96ea"
      },
      "outputs": [
        {
          "output_type": "execute_result",
          "data": {
            "text/plain": [
              "Empty DataFrame\n",
              "Columns: [ID, Customer_ID, Month, Name, Age, SSN, Occupation, Annual_Income, Monthly_Inhand_Salary, Num_Bank_Accounts, Num_Credit_Card, Interest_Rate, Num_of_Loan, Type_of_Loan, Delay_from_due_date, Num_of_Delayed_Payment, Changed_Credit_Limit, Num_Credit_Inquiries, Credit_Mix, Outstanding_Debt, Credit_Utilization_Ratio, Credit_History_Age, Payment_of_Min_Amount, Total_EMI_per_month, Amount_invested_monthly, Payment_Behaviour, Monthly_Balance, Credit_Score]\n",
              "Index: []\n",
              "\n",
              "[0 rows x 28 columns]"
            ],
            "text/html": [
              "\n",
              "  <div id=\"df-0f98b48d-ddb3-4f79-b37f-8a47a29d374c\">\n",
              "    <div class=\"colab-df-container\">\n",
              "      <div>\n",
              "<style scoped>\n",
              "    .dataframe tbody tr th:only-of-type {\n",
              "        vertical-align: middle;\n",
              "    }\n",
              "\n",
              "    .dataframe tbody tr th {\n",
              "        vertical-align: top;\n",
              "    }\n",
              "\n",
              "    .dataframe thead th {\n",
              "        text-align: right;\n",
              "    }\n",
              "</style>\n",
              "<table border=\"1\" class=\"dataframe\">\n",
              "  <thead>\n",
              "    <tr style=\"text-align: right;\">\n",
              "      <th></th>\n",
              "      <th>ID</th>\n",
              "      <th>Customer_ID</th>\n",
              "      <th>Month</th>\n",
              "      <th>Name</th>\n",
              "      <th>Age</th>\n",
              "      <th>SSN</th>\n",
              "      <th>Occupation</th>\n",
              "      <th>Annual_Income</th>\n",
              "      <th>Monthly_Inhand_Salary</th>\n",
              "      <th>Num_Bank_Accounts</th>\n",
              "      <th>...</th>\n",
              "      <th>Credit_Mix</th>\n",
              "      <th>Outstanding_Debt</th>\n",
              "      <th>Credit_Utilization_Ratio</th>\n",
              "      <th>Credit_History_Age</th>\n",
              "      <th>Payment_of_Min_Amount</th>\n",
              "      <th>Total_EMI_per_month</th>\n",
              "      <th>Amount_invested_monthly</th>\n",
              "      <th>Payment_Behaviour</th>\n",
              "      <th>Monthly_Balance</th>\n",
              "      <th>Credit_Score</th>\n",
              "    </tr>\n",
              "  </thead>\n",
              "  <tbody>\n",
              "  </tbody>\n",
              "</table>\n",
              "<p>0 rows × 28 columns</p>\n",
              "</div>\n",
              "      <button class=\"colab-df-convert\" onclick=\"convertToInteractive('df-0f98b48d-ddb3-4f79-b37f-8a47a29d374c')\"\n",
              "              title=\"Convert this dataframe to an interactive table.\"\n",
              "              style=\"display:none;\">\n",
              "        \n",
              "  <svg xmlns=\"http://www.w3.org/2000/svg\" height=\"24px\"viewBox=\"0 0 24 24\"\n",
              "       width=\"24px\">\n",
              "    <path d=\"M0 0h24v24H0V0z\" fill=\"none\"/>\n",
              "    <path d=\"M18.56 5.44l.94 2.06.94-2.06 2.06-.94-2.06-.94-.94-2.06-.94 2.06-2.06.94zm-11 1L8.5 8.5l.94-2.06 2.06-.94-2.06-.94L8.5 2.5l-.94 2.06-2.06.94zm10 10l.94 2.06.94-2.06 2.06-.94-2.06-.94-.94-2.06-.94 2.06-2.06.94z\"/><path d=\"M17.41 7.96l-1.37-1.37c-.4-.4-.92-.59-1.43-.59-.52 0-1.04.2-1.43.59L10.3 9.45l-7.72 7.72c-.78.78-.78 2.05 0 2.83L4 21.41c.39.39.9.59 1.41.59.51 0 1.02-.2 1.41-.59l7.78-7.78 2.81-2.81c.8-.78.8-2.07 0-2.86zM5.41 20L4 18.59l7.72-7.72 1.47 1.35L5.41 20z\"/>\n",
              "  </svg>\n",
              "      </button>\n",
              "      \n",
              "  <style>\n",
              "    .colab-df-container {\n",
              "      display:flex;\n",
              "      flex-wrap:wrap;\n",
              "      gap: 12px;\n",
              "    }\n",
              "\n",
              "    .colab-df-convert {\n",
              "      background-color: #E8F0FE;\n",
              "      border: none;\n",
              "      border-radius: 50%;\n",
              "      cursor: pointer;\n",
              "      display: none;\n",
              "      fill: #1967D2;\n",
              "      height: 32px;\n",
              "      padding: 0 0 0 0;\n",
              "      width: 32px;\n",
              "    }\n",
              "\n",
              "    .colab-df-convert:hover {\n",
              "      background-color: #E2EBFA;\n",
              "      box-shadow: 0px 1px 2px rgba(60, 64, 67, 0.3), 0px 1px 3px 1px rgba(60, 64, 67, 0.15);\n",
              "      fill: #174EA6;\n",
              "    }\n",
              "\n",
              "    [theme=dark] .colab-df-convert {\n",
              "      background-color: #3B4455;\n",
              "      fill: #D2E3FC;\n",
              "    }\n",
              "\n",
              "    [theme=dark] .colab-df-convert:hover {\n",
              "      background-color: #434B5C;\n",
              "      box-shadow: 0px 1px 3px 1px rgba(0, 0, 0, 0.15);\n",
              "      filter: drop-shadow(0px 1px 2px rgba(0, 0, 0, 0.3));\n",
              "      fill: #FFFFFF;\n",
              "    }\n",
              "  </style>\n",
              "\n",
              "      <script>\n",
              "        const buttonEl =\n",
              "          document.querySelector('#df-0f98b48d-ddb3-4f79-b37f-8a47a29d374c button.colab-df-convert');\n",
              "        buttonEl.style.display =\n",
              "          google.colab.kernel.accessAllowed ? 'block' : 'none';\n",
              "\n",
              "        async function convertToInteractive(key) {\n",
              "          const element = document.querySelector('#df-0f98b48d-ddb3-4f79-b37f-8a47a29d374c');\n",
              "          const dataTable =\n",
              "            await google.colab.kernel.invokeFunction('convertToInteractive',\n",
              "                                                     [key], {});\n",
              "          if (!dataTable) return;\n",
              "\n",
              "          const docLinkHtml = 'Like what you see? Visit the ' +\n",
              "            '<a target=\"_blank\" href=https://colab.research.google.com/notebooks/data_table.ipynb>data table notebook</a>'\n",
              "            + ' to learn more about interactive tables.';\n",
              "          element.innerHTML = '';\n",
              "          dataTable['output_type'] = 'display_data';\n",
              "          await google.colab.output.renderOutput(dataTable, element);\n",
              "          const docLink = document.createElement('div');\n",
              "          docLink.innerHTML = docLinkHtml;\n",
              "          element.appendChild(docLink);\n",
              "        }\n",
              "      </script>\n",
              "    </div>\n",
              "  </div>\n",
              "  "
            ]
          },
          "metadata": {},
          "execution_count": 18
        }
      ],
      "source": [
        "df[df['Monthly_Inhand_Salary'] == \"NAN\"]"
      ]
    },
    {
      "cell_type": "code",
      "execution_count": 19,
      "metadata": {
        "id": "pV6SjI0YTtYw"
      },
      "outputs": [],
      "source": [
        "df.to_csv('train2.csv')"
      ]
    },
    {
      "cell_type": "markdown",
      "metadata": {
        "id": "bli8upbhGWuW"
      },
      "source": [
        "## Type Of Loan Column Filling"
      ]
    },
    {
      "cell_type": "code",
      "execution_count": 20,
      "metadata": {
        "colab": {
          "base_uri": "https://localhost:8080/"
        },
        "id": "wBkyrzgZUooV",
        "outputId": "aef3f8b0-d81d-465c-ce68-321740adcd0a"
      },
      "outputs": [
        {
          "output_type": "execute_result",
          "data": {
            "text/plain": [
              "ID                              0\n",
              "Customer_ID                     0\n",
              "Month                           0\n",
              "Name                            0\n",
              "Age                             0\n",
              "SSN                             0\n",
              "Occupation                      0\n",
              "Annual_Income                   0\n",
              "Monthly_Inhand_Salary           0\n",
              "Num_Bank_Accounts               0\n",
              "Num_Credit_Card                 0\n",
              "Interest_Rate                   0\n",
              "Num_of_Loan                     0\n",
              "Type_of_Loan                11408\n",
              "Delay_from_due_date             0\n",
              "Num_of_Delayed_Payment       7002\n",
              "Changed_Credit_Limit            0\n",
              "Num_Credit_Inquiries         1965\n",
              "Credit_Mix                      0\n",
              "Outstanding_Debt                0\n",
              "Credit_Utilization_Ratio        0\n",
              "Credit_History_Age           9030\n",
              "Payment_of_Min_Amount           0\n",
              "Total_EMI_per_month             0\n",
              "Amount_invested_monthly      4479\n",
              "Payment_Behaviour               0\n",
              "Monthly_Balance              1200\n",
              "Credit_Score                    0\n",
              "dtype: int64"
            ]
          },
          "metadata": {},
          "execution_count": 20
        }
      ],
      "source": [
        "df.isnull().sum()"
      ]
    },
    {
      "cell_type": "code",
      "execution_count": 21,
      "metadata": {
        "colab": {
          "base_uri": "https://localhost:8080/"
        },
        "id": "m8uKTMijyjHu",
        "outputId": "a4991153-14a4-465f-a0bf-ab3bf5b5d167"
      },
      "outputs": [
        {
          "output_type": "execute_result",
          "data": {
            "text/plain": [
              "array(['Auto Loan, Credit-Builder Loan, Personal Loan, and Home Equity Loan',\n",
              "       'Credit-Builder Loan', 'Auto Loan, Auto Loan, and Not Specified',\n",
              "       ..., 'Home Equity Loan, Auto Loan, Auto Loan, and Auto Loan',\n",
              "       'Payday Loan, Student Loan, Mortgage Loan, and Not Specified',\n",
              "       'Personal Loan, Auto Loan, Mortgage Loan, Student Loan, and Student Loan'],\n",
              "      dtype=object)"
            ]
          },
          "metadata": {},
          "execution_count": 21
        }
      ],
      "source": [
        "df['Type_of_Loan'].unique()"
      ]
    },
    {
      "cell_type": "code",
      "execution_count": 22,
      "metadata": {
        "id": "FvKlFCOSx2FR"
      },
      "outputs": [],
      "source": [
        "df['Type_of_Loan'] = df['Type_of_Loan'].fillna('Not Specified')"
      ]
    },
    {
      "cell_type": "code",
      "execution_count": 23,
      "metadata": {
        "colab": {
          "base_uri": "https://localhost:8080/"
        },
        "id": "n8281mjGytAS",
        "outputId": "ad56efa8-3c29-4c87-ed84-4f21e7159fa1"
      },
      "outputs": [
        {
          "output_type": "execute_result",
          "data": {
            "text/plain": [
              "ID                             0\n",
              "Customer_ID                    0\n",
              "Month                          0\n",
              "Name                           0\n",
              "Age                            0\n",
              "SSN                            0\n",
              "Occupation                     0\n",
              "Annual_Income                  0\n",
              "Monthly_Inhand_Salary          0\n",
              "Num_Bank_Accounts              0\n",
              "Num_Credit_Card                0\n",
              "Interest_Rate                  0\n",
              "Num_of_Loan                    0\n",
              "Type_of_Loan                   0\n",
              "Delay_from_due_date            0\n",
              "Num_of_Delayed_Payment      7002\n",
              "Changed_Credit_Limit           0\n",
              "Num_Credit_Inquiries        1965\n",
              "Credit_Mix                     0\n",
              "Outstanding_Debt               0\n",
              "Credit_Utilization_Ratio       0\n",
              "Credit_History_Age          9030\n",
              "Payment_of_Min_Amount          0\n",
              "Total_EMI_per_month            0\n",
              "Amount_invested_monthly     4479\n",
              "Payment_Behaviour              0\n",
              "Monthly_Balance             1200\n",
              "Credit_Score                   0\n",
              "dtype: int64"
            ]
          },
          "metadata": {},
          "execution_count": 23
        }
      ],
      "source": [
        "df.isnull().sum()"
      ]
    },
    {
      "cell_type": "markdown",
      "metadata": {
        "id": "gy1Za6aHGw6G"
      },
      "source": [
        "## Number of Delayed Payment Column Filling"
      ]
    },
    {
      "cell_type": "code",
      "execution_count": 24,
      "metadata": {
        "colab": {
          "base_uri": "https://localhost:8080/",
          "height": 1000
        },
        "id": "2QYPxGdOy56Y",
        "outputId": "7ca1390e-afc1-4536-b08d-b730a23b8c18"
      },
      "outputs": [
        {
          "output_type": "execute_result",
          "data": {
            "text/plain": [
              "         ID Customer_ID     Month              Name Age          SSN  \\\n",
              "1    0x1603   CUS_0xd40  February     Aaron Maashoh  23  821-00-0265   \n",
              "4    0x1606   CUS_0xd40       May     Aaron Maashoh  23  821-00-0265   \n",
              "30   0x162c  CUS_0xb891      July            Jasond  55  072-31-6145   \n",
              "32   0x1632  CUS_0x1cdb   January            Deepaa  21  615-06-7821   \n",
              "33   0x1633  CUS_0x1cdb  February            Deepaa  21  615-06-7821   \n",
              "70   0x1668  CUS_0x4157      July      Charlie Zhur  24  070-19-1622   \n",
              "95   0x168d  CUS_0xc0ab    August          Soyoungd  33  342-90-2649   \n",
              "106  0x16a0  CUS_0x6c66     March     Sinead Carews  39  328-33-6328   \n",
              "140  0x16d2   CUS_0xfdb       May          Patrickg  46  928-91-4452   \n",
              "142  0x16d4   CUS_0xfdb      July          Patrickg  46  928-91-4452   \n",
              "148  0x16de  CUS_0x3553       May   Laurence Frosty  26  084-25-3745   \n",
              "152  0x16e6  CUS_0x4100   January             Reema  31  068-83-4394   \n",
              "164  0x16f6  CUS_0x132f       May  Mark Felsenthald  41  561-60-9294   \n",
              "168  0x16fe  CUS_0xa16e   January        Lee Chyenz  41  905-50-7912   \n",
              "172  0x1702  CUS_0xa16e       May        Lee Chyenz  41  905-50-7912   \n",
              "194  0x1724  CUS_0xa5f9     March             Rickt  34  189-09-5267   \n",
              "201  0x172f  CUS_0x4d43  February            Reijik  48  013-39-0742   \n",
              "202  0x1730  CUS_0x4d43     March            Reijik  48  013-39-0742   \n",
              "209  0x173b  CUS_0xb95f  February           Ashleyk  30  467-13-1148   \n",
              "269  0x1793  CUS_0x4004      June           Carlosj  44  679-26-6464   \n",
              "\n",
              "        Occupation Annual_Income Monthly_Inhand_Salary  Num_Bank_Accounts  \\\n",
              "1        Scientist      19114.12           1824.843333                  3   \n",
              "4        Scientist      19114.12           1824.843333                  3   \n",
              "30    Entrepreneur      30689.89           2612.490833                  2   \n",
              "32       Developer     35547.71_           2853.309167                  7   \n",
              "33       Developer      35547.71           2853.309167                  7   \n",
              "70          Doctor     114838.41             9843.8675                  2   \n",
              "95        Engineer      88640.24           7266.686667                  3   \n",
              "106        Manager     8701.545_             519.12875                  6   \n",
              "140        Teacher      32284.62              2898.385                  6   \n",
              "142        Teacher      32284.62              2898.385                  6   \n",
              "148       Musician      97791.42           7449.469347                  6   \n",
              "152   Entrepreneur      19300.34           1512.361667                  6   \n",
              "164       Musician      19514.88               1828.24                  7   \n",
              "168  Media_Manager     10183.015           1074.584583                  7   \n",
              "172  Media_Manager     10183.015           1074.584583                  7   \n",
              "194       Mechanic      57983.12           4720.926667                  9   \n",
              "201        _______      20787.69             1999.3075                  8   \n",
              "202        _______      20787.69             1999.3075                  8   \n",
              "209         Writer      34290.12               2697.51                  9   \n",
              "269         Writer       58317.0               4664.75                  8   \n",
              "\n",
              "     ...  Credit_Mix  Outstanding_Debt Credit_Utilization_Ratio  \\\n",
              "1    ...        Good            809.98                31.944960   \n",
              "4    ...        Good            809.98                24.797347   \n",
              "30   ...        Good            632.46                26.056395   \n",
              "32   ...    Standard            943.86                39.797764   \n",
              "33   ...    Standard            943.86                27.020360   \n",
              "70   ...        Good           1377.74                31.767516   \n",
              "95   ...        Good            950.36                30.870799   \n",
              "106  ...    Standard           2602.69                36.475914   \n",
              "140  ...           _           1283.37                33.239784   \n",
              "142  ...    Standard          1283.37_                24.205533   \n",
              "148  ...           _            107.41                38.649114   \n",
              "152  ...         Bad           2430.21                29.934186   \n",
              "164  ...    Standard             881.4                41.176384   \n",
              "168  ...         Bad           1672.43                25.951273   \n",
              "172  ...         Bad           1672.43                32.293490   \n",
              "194  ...         Bad           3532.83                37.810243   \n",
              "201  ...    Standard             614.6                34.235853   \n",
              "202  ...    Standard             614.6                22.802145   \n",
              "209  ...    Standard           2686.81                27.036842   \n",
              "269  ...    Standard             98.97                24.665525   \n",
              "\n",
              "         Credit_History_Age  Payment_of_Min_Amount Total_EMI_per_month  \\\n",
              "1                       NaN                     No           49.574949   \n",
              "4     22 Years and 5 Months                     No           49.574949   \n",
              "30    17 Years and 9 Months                     No           16.415452   \n",
              "32    30 Years and 8 Months                    Yes            0.000000   \n",
              "33    30 Years and 9 Months                     NM            0.000000   \n",
              "70   21 Years and 10 Months                     No          226.892792   \n",
              "95    26 Years and 0 Months                     No          135.173371   \n",
              "106    9 Years and 1 Months                     NM           36.548197   \n",
              "140    6 Years and 9 Months                    Yes          103.037560   \n",
              "142   6 Years and 11 Months                    Yes          103.037560   \n",
              "148   27 Years and 6 Months                    Yes          629.815653   \n",
              "152   18 Years and 2 Months                    Yes           49.572062   \n",
              "164   19 Years and 7 Months                     No            0.000000   \n",
              "168   10 Years and 1 Months                    Yes           37.588073   \n",
              "172   10 Years and 5 Months                    Yes           37.588073   \n",
              "194   12 Years and 4 Months                    Yes          200.432613   \n",
              "201  17 Years and 11 Months                     No           42.221993   \n",
              "202                     NaN                     No           42.221993   \n",
              "209                     NaN                     NM          185.111983   \n",
              "269   13 Years and 6 Months                    Yes          149.897199   \n",
              "\n",
              "    Amount_invested_monthly                 Payment_Behaviour  \\\n",
              "1        118.28022162236736    Low_spent_Large_value_payments   \n",
              "4        41.420153086217326  High_spent_Medium_value_payments   \n",
              "30        71.28367488286933    Low_spent_Large_value_payments   \n",
              "32       276.72539431736266                            !@9#%8   \n",
              "33        74.44364104999623  High_spent_Medium_value_payments   \n",
              "70        215.4682977385688  High_spent_Medium_value_payments   \n",
              "95        98.44195128223792   High_spent_Large_value_payments   \n",
              "106        45.6509755447516    Low_spent_Large_value_payments   \n",
              "140       154.0197492180297   High_spent_Small_value_payments   \n",
              "142               __10000__    Low_spent_Small_value_payments   \n",
              "148       77.60922833984066   High_spent_Large_value_payments   \n",
              "152       79.17641583265376    Low_spent_Small_value_payments   \n",
              "164      168.34146287619103    Low_spent_Small_value_payments   \n",
              "168      14.622739235117402   High_spent_Large_value_payments   \n",
              "172       65.83126164076859                            !@9#%8   \n",
              "194       534.3581783879267    Low_spent_Small_value_payments   \n",
              "201       82.62718037237505    Low_spent_Large_value_payments   \n",
              "202      110.17209563183977    Low_spent_Small_value_payments   \n",
              "209               __10000__    Low_spent_Large_value_payments   \n",
              "269       98.88050778293751  High_spent_Medium_value_payments   \n",
              "\n",
              "        Monthly_Balance Credit_Score  \n",
              "1    284.62916249607184         Good  \n",
              "4    341.48923103222177         Good  \n",
              "30    443.5499567906391     Standard  \n",
              "32   288.60552234930395     Standard  \n",
              "33   460.88727561667037     Standard  \n",
              "70    792.0256603398883         Good  \n",
              "95    733.0533444127112         Good  \n",
              "106  239.71370228386124         Poor  \n",
              "140   292.7811904266044     Standard  \n",
              "142   85.90209492602362     Standard  \n",
              "148   970.3192716601593         Good  \n",
              "152  312.48768858956015         Poor  \n",
              "164  304.48253712380904         Poor  \n",
              "168   295.2476462600903         Poor  \n",
              "172  294.03912385443914         Poor  \n",
              "194  27.301874884033168         Poor  \n",
              "201   345.0815769711927     Standard  \n",
              "202  337.53666171172796     Standard  \n",
              "209   196.5585016421765     Standard  \n",
              "269   467.6972927960543     Standard  \n",
              "\n",
              "[20 rows x 28 columns]"
            ],
            "text/html": [
              "\n",
              "  <div id=\"df-7f3aa622-d543-492d-a9b0-500729b98f89\">\n",
              "    <div class=\"colab-df-container\">\n",
              "      <div>\n",
              "<style scoped>\n",
              "    .dataframe tbody tr th:only-of-type {\n",
              "        vertical-align: middle;\n",
              "    }\n",
              "\n",
              "    .dataframe tbody tr th {\n",
              "        vertical-align: top;\n",
              "    }\n",
              "\n",
              "    .dataframe thead th {\n",
              "        text-align: right;\n",
              "    }\n",
              "</style>\n",
              "<table border=\"1\" class=\"dataframe\">\n",
              "  <thead>\n",
              "    <tr style=\"text-align: right;\">\n",
              "      <th></th>\n",
              "      <th>ID</th>\n",
              "      <th>Customer_ID</th>\n",
              "      <th>Month</th>\n",
              "      <th>Name</th>\n",
              "      <th>Age</th>\n",
              "      <th>SSN</th>\n",
              "      <th>Occupation</th>\n",
              "      <th>Annual_Income</th>\n",
              "      <th>Monthly_Inhand_Salary</th>\n",
              "      <th>Num_Bank_Accounts</th>\n",
              "      <th>...</th>\n",
              "      <th>Credit_Mix</th>\n",
              "      <th>Outstanding_Debt</th>\n",
              "      <th>Credit_Utilization_Ratio</th>\n",
              "      <th>Credit_History_Age</th>\n",
              "      <th>Payment_of_Min_Amount</th>\n",
              "      <th>Total_EMI_per_month</th>\n",
              "      <th>Amount_invested_monthly</th>\n",
              "      <th>Payment_Behaviour</th>\n",
              "      <th>Monthly_Balance</th>\n",
              "      <th>Credit_Score</th>\n",
              "    </tr>\n",
              "  </thead>\n",
              "  <tbody>\n",
              "    <tr>\n",
              "      <th>1</th>\n",
              "      <td>0x1603</td>\n",
              "      <td>CUS_0xd40</td>\n",
              "      <td>February</td>\n",
              "      <td>Aaron Maashoh</td>\n",
              "      <td>23</td>\n",
              "      <td>821-00-0265</td>\n",
              "      <td>Scientist</td>\n",
              "      <td>19114.12</td>\n",
              "      <td>1824.843333</td>\n",
              "      <td>3</td>\n",
              "      <td>...</td>\n",
              "      <td>Good</td>\n",
              "      <td>809.98</td>\n",
              "      <td>31.944960</td>\n",
              "      <td>NaN</td>\n",
              "      <td>No</td>\n",
              "      <td>49.574949</td>\n",
              "      <td>118.28022162236736</td>\n",
              "      <td>Low_spent_Large_value_payments</td>\n",
              "      <td>284.62916249607184</td>\n",
              "      <td>Good</td>\n",
              "    </tr>\n",
              "    <tr>\n",
              "      <th>4</th>\n",
              "      <td>0x1606</td>\n",
              "      <td>CUS_0xd40</td>\n",
              "      <td>May</td>\n",
              "      <td>Aaron Maashoh</td>\n",
              "      <td>23</td>\n",
              "      <td>821-00-0265</td>\n",
              "      <td>Scientist</td>\n",
              "      <td>19114.12</td>\n",
              "      <td>1824.843333</td>\n",
              "      <td>3</td>\n",
              "      <td>...</td>\n",
              "      <td>Good</td>\n",
              "      <td>809.98</td>\n",
              "      <td>24.797347</td>\n",
              "      <td>22 Years and 5 Months</td>\n",
              "      <td>No</td>\n",
              "      <td>49.574949</td>\n",
              "      <td>41.420153086217326</td>\n",
              "      <td>High_spent_Medium_value_payments</td>\n",
              "      <td>341.48923103222177</td>\n",
              "      <td>Good</td>\n",
              "    </tr>\n",
              "    <tr>\n",
              "      <th>30</th>\n",
              "      <td>0x162c</td>\n",
              "      <td>CUS_0xb891</td>\n",
              "      <td>July</td>\n",
              "      <td>Jasond</td>\n",
              "      <td>55</td>\n",
              "      <td>072-31-6145</td>\n",
              "      <td>Entrepreneur</td>\n",
              "      <td>30689.89</td>\n",
              "      <td>2612.490833</td>\n",
              "      <td>2</td>\n",
              "      <td>...</td>\n",
              "      <td>Good</td>\n",
              "      <td>632.46</td>\n",
              "      <td>26.056395</td>\n",
              "      <td>17 Years and 9 Months</td>\n",
              "      <td>No</td>\n",
              "      <td>16.415452</td>\n",
              "      <td>71.28367488286933</td>\n",
              "      <td>Low_spent_Large_value_payments</td>\n",
              "      <td>443.5499567906391</td>\n",
              "      <td>Standard</td>\n",
              "    </tr>\n",
              "    <tr>\n",
              "      <th>32</th>\n",
              "      <td>0x1632</td>\n",
              "      <td>CUS_0x1cdb</td>\n",
              "      <td>January</td>\n",
              "      <td>Deepaa</td>\n",
              "      <td>21</td>\n",
              "      <td>615-06-7821</td>\n",
              "      <td>Developer</td>\n",
              "      <td>35547.71_</td>\n",
              "      <td>2853.309167</td>\n",
              "      <td>7</td>\n",
              "      <td>...</td>\n",
              "      <td>Standard</td>\n",
              "      <td>943.86</td>\n",
              "      <td>39.797764</td>\n",
              "      <td>30 Years and 8 Months</td>\n",
              "      <td>Yes</td>\n",
              "      <td>0.000000</td>\n",
              "      <td>276.72539431736266</td>\n",
              "      <td>!@9#%8</td>\n",
              "      <td>288.60552234930395</td>\n",
              "      <td>Standard</td>\n",
              "    </tr>\n",
              "    <tr>\n",
              "      <th>33</th>\n",
              "      <td>0x1633</td>\n",
              "      <td>CUS_0x1cdb</td>\n",
              "      <td>February</td>\n",
              "      <td>Deepaa</td>\n",
              "      <td>21</td>\n",
              "      <td>615-06-7821</td>\n",
              "      <td>Developer</td>\n",
              "      <td>35547.71</td>\n",
              "      <td>2853.309167</td>\n",
              "      <td>7</td>\n",
              "      <td>...</td>\n",
              "      <td>Standard</td>\n",
              "      <td>943.86</td>\n",
              "      <td>27.020360</td>\n",
              "      <td>30 Years and 9 Months</td>\n",
              "      <td>NM</td>\n",
              "      <td>0.000000</td>\n",
              "      <td>74.44364104999623</td>\n",
              "      <td>High_spent_Medium_value_payments</td>\n",
              "      <td>460.88727561667037</td>\n",
              "      <td>Standard</td>\n",
              "    </tr>\n",
              "    <tr>\n",
              "      <th>70</th>\n",
              "      <td>0x1668</td>\n",
              "      <td>CUS_0x4157</td>\n",
              "      <td>July</td>\n",
              "      <td>Charlie Zhur</td>\n",
              "      <td>24</td>\n",
              "      <td>070-19-1622</td>\n",
              "      <td>Doctor</td>\n",
              "      <td>114838.41</td>\n",
              "      <td>9843.8675</td>\n",
              "      <td>2</td>\n",
              "      <td>...</td>\n",
              "      <td>Good</td>\n",
              "      <td>1377.74</td>\n",
              "      <td>31.767516</td>\n",
              "      <td>21 Years and 10 Months</td>\n",
              "      <td>No</td>\n",
              "      <td>226.892792</td>\n",
              "      <td>215.4682977385688</td>\n",
              "      <td>High_spent_Medium_value_payments</td>\n",
              "      <td>792.0256603398883</td>\n",
              "      <td>Good</td>\n",
              "    </tr>\n",
              "    <tr>\n",
              "      <th>95</th>\n",
              "      <td>0x168d</td>\n",
              "      <td>CUS_0xc0ab</td>\n",
              "      <td>August</td>\n",
              "      <td>Soyoungd</td>\n",
              "      <td>33</td>\n",
              "      <td>342-90-2649</td>\n",
              "      <td>Engineer</td>\n",
              "      <td>88640.24</td>\n",
              "      <td>7266.686667</td>\n",
              "      <td>3</td>\n",
              "      <td>...</td>\n",
              "      <td>Good</td>\n",
              "      <td>950.36</td>\n",
              "      <td>30.870799</td>\n",
              "      <td>26 Years and 0 Months</td>\n",
              "      <td>No</td>\n",
              "      <td>135.173371</td>\n",
              "      <td>98.44195128223792</td>\n",
              "      <td>High_spent_Large_value_payments</td>\n",
              "      <td>733.0533444127112</td>\n",
              "      <td>Good</td>\n",
              "    </tr>\n",
              "    <tr>\n",
              "      <th>106</th>\n",
              "      <td>0x16a0</td>\n",
              "      <td>CUS_0x6c66</td>\n",
              "      <td>March</td>\n",
              "      <td>Sinead Carews</td>\n",
              "      <td>39</td>\n",
              "      <td>328-33-6328</td>\n",
              "      <td>Manager</td>\n",
              "      <td>8701.545_</td>\n",
              "      <td>519.12875</td>\n",
              "      <td>6</td>\n",
              "      <td>...</td>\n",
              "      <td>Standard</td>\n",
              "      <td>2602.69</td>\n",
              "      <td>36.475914</td>\n",
              "      <td>9 Years and 1 Months</td>\n",
              "      <td>NM</td>\n",
              "      <td>36.548197</td>\n",
              "      <td>45.6509755447516</td>\n",
              "      <td>Low_spent_Large_value_payments</td>\n",
              "      <td>239.71370228386124</td>\n",
              "      <td>Poor</td>\n",
              "    </tr>\n",
              "    <tr>\n",
              "      <th>140</th>\n",
              "      <td>0x16d2</td>\n",
              "      <td>CUS_0xfdb</td>\n",
              "      <td>May</td>\n",
              "      <td>Patrickg</td>\n",
              "      <td>46</td>\n",
              "      <td>928-91-4452</td>\n",
              "      <td>Teacher</td>\n",
              "      <td>32284.62</td>\n",
              "      <td>2898.385</td>\n",
              "      <td>6</td>\n",
              "      <td>...</td>\n",
              "      <td>_</td>\n",
              "      <td>1283.37</td>\n",
              "      <td>33.239784</td>\n",
              "      <td>6 Years and 9 Months</td>\n",
              "      <td>Yes</td>\n",
              "      <td>103.037560</td>\n",
              "      <td>154.0197492180297</td>\n",
              "      <td>High_spent_Small_value_payments</td>\n",
              "      <td>292.7811904266044</td>\n",
              "      <td>Standard</td>\n",
              "    </tr>\n",
              "    <tr>\n",
              "      <th>142</th>\n",
              "      <td>0x16d4</td>\n",
              "      <td>CUS_0xfdb</td>\n",
              "      <td>July</td>\n",
              "      <td>Patrickg</td>\n",
              "      <td>46</td>\n",
              "      <td>928-91-4452</td>\n",
              "      <td>Teacher</td>\n",
              "      <td>32284.62</td>\n",
              "      <td>2898.385</td>\n",
              "      <td>6</td>\n",
              "      <td>...</td>\n",
              "      <td>Standard</td>\n",
              "      <td>1283.37_</td>\n",
              "      <td>24.205533</td>\n",
              "      <td>6 Years and 11 Months</td>\n",
              "      <td>Yes</td>\n",
              "      <td>103.037560</td>\n",
              "      <td>__10000__</td>\n",
              "      <td>Low_spent_Small_value_payments</td>\n",
              "      <td>85.90209492602362</td>\n",
              "      <td>Standard</td>\n",
              "    </tr>\n",
              "    <tr>\n",
              "      <th>148</th>\n",
              "      <td>0x16de</td>\n",
              "      <td>CUS_0x3553</td>\n",
              "      <td>May</td>\n",
              "      <td>Laurence Frosty</td>\n",
              "      <td>26</td>\n",
              "      <td>084-25-3745</td>\n",
              "      <td>Musician</td>\n",
              "      <td>97791.42</td>\n",
              "      <td>7449.469347</td>\n",
              "      <td>6</td>\n",
              "      <td>...</td>\n",
              "      <td>_</td>\n",
              "      <td>107.41</td>\n",
              "      <td>38.649114</td>\n",
              "      <td>27 Years and 6 Months</td>\n",
              "      <td>Yes</td>\n",
              "      <td>629.815653</td>\n",
              "      <td>77.60922833984066</td>\n",
              "      <td>High_spent_Large_value_payments</td>\n",
              "      <td>970.3192716601593</td>\n",
              "      <td>Good</td>\n",
              "    </tr>\n",
              "    <tr>\n",
              "      <th>152</th>\n",
              "      <td>0x16e6</td>\n",
              "      <td>CUS_0x4100</td>\n",
              "      <td>January</td>\n",
              "      <td>Reema</td>\n",
              "      <td>31</td>\n",
              "      <td>068-83-4394</td>\n",
              "      <td>Entrepreneur</td>\n",
              "      <td>19300.34</td>\n",
              "      <td>1512.361667</td>\n",
              "      <td>6</td>\n",
              "      <td>...</td>\n",
              "      <td>Bad</td>\n",
              "      <td>2430.21</td>\n",
              "      <td>29.934186</td>\n",
              "      <td>18 Years and 2 Months</td>\n",
              "      <td>Yes</td>\n",
              "      <td>49.572062</td>\n",
              "      <td>79.17641583265376</td>\n",
              "      <td>Low_spent_Small_value_payments</td>\n",
              "      <td>312.48768858956015</td>\n",
              "      <td>Poor</td>\n",
              "    </tr>\n",
              "    <tr>\n",
              "      <th>164</th>\n",
              "      <td>0x16f6</td>\n",
              "      <td>CUS_0x132f</td>\n",
              "      <td>May</td>\n",
              "      <td>Mark Felsenthald</td>\n",
              "      <td>41</td>\n",
              "      <td>561-60-9294</td>\n",
              "      <td>Musician</td>\n",
              "      <td>19514.88</td>\n",
              "      <td>1828.24</td>\n",
              "      <td>7</td>\n",
              "      <td>...</td>\n",
              "      <td>Standard</td>\n",
              "      <td>881.4</td>\n",
              "      <td>41.176384</td>\n",
              "      <td>19 Years and 7 Months</td>\n",
              "      <td>No</td>\n",
              "      <td>0.000000</td>\n",
              "      <td>168.34146287619103</td>\n",
              "      <td>Low_spent_Small_value_payments</td>\n",
              "      <td>304.48253712380904</td>\n",
              "      <td>Poor</td>\n",
              "    </tr>\n",
              "    <tr>\n",
              "      <th>168</th>\n",
              "      <td>0x16fe</td>\n",
              "      <td>CUS_0xa16e</td>\n",
              "      <td>January</td>\n",
              "      <td>Lee Chyenz</td>\n",
              "      <td>41</td>\n",
              "      <td>905-50-7912</td>\n",
              "      <td>Media_Manager</td>\n",
              "      <td>10183.015</td>\n",
              "      <td>1074.584583</td>\n",
              "      <td>7</td>\n",
              "      <td>...</td>\n",
              "      <td>Bad</td>\n",
              "      <td>1672.43</td>\n",
              "      <td>25.951273</td>\n",
              "      <td>10 Years and 1 Months</td>\n",
              "      <td>Yes</td>\n",
              "      <td>37.588073</td>\n",
              "      <td>14.622739235117402</td>\n",
              "      <td>High_spent_Large_value_payments</td>\n",
              "      <td>295.2476462600903</td>\n",
              "      <td>Poor</td>\n",
              "    </tr>\n",
              "    <tr>\n",
              "      <th>172</th>\n",
              "      <td>0x1702</td>\n",
              "      <td>CUS_0xa16e</td>\n",
              "      <td>May</td>\n",
              "      <td>Lee Chyenz</td>\n",
              "      <td>41</td>\n",
              "      <td>905-50-7912</td>\n",
              "      <td>Media_Manager</td>\n",
              "      <td>10183.015</td>\n",
              "      <td>1074.584583</td>\n",
              "      <td>7</td>\n",
              "      <td>...</td>\n",
              "      <td>Bad</td>\n",
              "      <td>1672.43</td>\n",
              "      <td>32.293490</td>\n",
              "      <td>10 Years and 5 Months</td>\n",
              "      <td>Yes</td>\n",
              "      <td>37.588073</td>\n",
              "      <td>65.83126164076859</td>\n",
              "      <td>!@9#%8</td>\n",
              "      <td>294.03912385443914</td>\n",
              "      <td>Poor</td>\n",
              "    </tr>\n",
              "    <tr>\n",
              "      <th>194</th>\n",
              "      <td>0x1724</td>\n",
              "      <td>CUS_0xa5f9</td>\n",
              "      <td>March</td>\n",
              "      <td>Rickt</td>\n",
              "      <td>34</td>\n",
              "      <td>189-09-5267</td>\n",
              "      <td>Mechanic</td>\n",
              "      <td>57983.12</td>\n",
              "      <td>4720.926667</td>\n",
              "      <td>9</td>\n",
              "      <td>...</td>\n",
              "      <td>Bad</td>\n",
              "      <td>3532.83</td>\n",
              "      <td>37.810243</td>\n",
              "      <td>12 Years and 4 Months</td>\n",
              "      <td>Yes</td>\n",
              "      <td>200.432613</td>\n",
              "      <td>534.3581783879267</td>\n",
              "      <td>Low_spent_Small_value_payments</td>\n",
              "      <td>27.301874884033168</td>\n",
              "      <td>Poor</td>\n",
              "    </tr>\n",
              "    <tr>\n",
              "      <th>201</th>\n",
              "      <td>0x172f</td>\n",
              "      <td>CUS_0x4d43</td>\n",
              "      <td>February</td>\n",
              "      <td>Reijik</td>\n",
              "      <td>48</td>\n",
              "      <td>013-39-0742</td>\n",
              "      <td>_______</td>\n",
              "      <td>20787.69</td>\n",
              "      <td>1999.3075</td>\n",
              "      <td>8</td>\n",
              "      <td>...</td>\n",
              "      <td>Standard</td>\n",
              "      <td>614.6</td>\n",
              "      <td>34.235853</td>\n",
              "      <td>17 Years and 11 Months</td>\n",
              "      <td>No</td>\n",
              "      <td>42.221993</td>\n",
              "      <td>82.62718037237505</td>\n",
              "      <td>Low_spent_Large_value_payments</td>\n",
              "      <td>345.0815769711927</td>\n",
              "      <td>Standard</td>\n",
              "    </tr>\n",
              "    <tr>\n",
              "      <th>202</th>\n",
              "      <td>0x1730</td>\n",
              "      <td>CUS_0x4d43</td>\n",
              "      <td>March</td>\n",
              "      <td>Reijik</td>\n",
              "      <td>48</td>\n",
              "      <td>013-39-0742</td>\n",
              "      <td>_______</td>\n",
              "      <td>20787.69</td>\n",
              "      <td>1999.3075</td>\n",
              "      <td>8</td>\n",
              "      <td>...</td>\n",
              "      <td>Standard</td>\n",
              "      <td>614.6</td>\n",
              "      <td>22.802145</td>\n",
              "      <td>NaN</td>\n",
              "      <td>No</td>\n",
              "      <td>42.221993</td>\n",
              "      <td>110.17209563183977</td>\n",
              "      <td>Low_spent_Small_value_payments</td>\n",
              "      <td>337.53666171172796</td>\n",
              "      <td>Standard</td>\n",
              "    </tr>\n",
              "    <tr>\n",
              "      <th>209</th>\n",
              "      <td>0x173b</td>\n",
              "      <td>CUS_0xb95f</td>\n",
              "      <td>February</td>\n",
              "      <td>Ashleyk</td>\n",
              "      <td>30</td>\n",
              "      <td>467-13-1148</td>\n",
              "      <td>Writer</td>\n",
              "      <td>34290.12</td>\n",
              "      <td>2697.51</td>\n",
              "      <td>9</td>\n",
              "      <td>...</td>\n",
              "      <td>Standard</td>\n",
              "      <td>2686.81</td>\n",
              "      <td>27.036842</td>\n",
              "      <td>NaN</td>\n",
              "      <td>NM</td>\n",
              "      <td>185.111983</td>\n",
              "      <td>__10000__</td>\n",
              "      <td>Low_spent_Large_value_payments</td>\n",
              "      <td>196.5585016421765</td>\n",
              "      <td>Standard</td>\n",
              "    </tr>\n",
              "    <tr>\n",
              "      <th>269</th>\n",
              "      <td>0x1793</td>\n",
              "      <td>CUS_0x4004</td>\n",
              "      <td>June</td>\n",
              "      <td>Carlosj</td>\n",
              "      <td>44</td>\n",
              "      <td>679-26-6464</td>\n",
              "      <td>Writer</td>\n",
              "      <td>58317.0</td>\n",
              "      <td>4664.75</td>\n",
              "      <td>8</td>\n",
              "      <td>...</td>\n",
              "      <td>Standard</td>\n",
              "      <td>98.97</td>\n",
              "      <td>24.665525</td>\n",
              "      <td>13 Years and 6 Months</td>\n",
              "      <td>Yes</td>\n",
              "      <td>149.897199</td>\n",
              "      <td>98.88050778293751</td>\n",
              "      <td>High_spent_Medium_value_payments</td>\n",
              "      <td>467.6972927960543</td>\n",
              "      <td>Standard</td>\n",
              "    </tr>\n",
              "  </tbody>\n",
              "</table>\n",
              "<p>20 rows × 28 columns</p>\n",
              "</div>\n",
              "      <button class=\"colab-df-convert\" onclick=\"convertToInteractive('df-7f3aa622-d543-492d-a9b0-500729b98f89')\"\n",
              "              title=\"Convert this dataframe to an interactive table.\"\n",
              "              style=\"display:none;\">\n",
              "        \n",
              "  <svg xmlns=\"http://www.w3.org/2000/svg\" height=\"24px\"viewBox=\"0 0 24 24\"\n",
              "       width=\"24px\">\n",
              "    <path d=\"M0 0h24v24H0V0z\" fill=\"none\"/>\n",
              "    <path d=\"M18.56 5.44l.94 2.06.94-2.06 2.06-.94-2.06-.94-.94-2.06-.94 2.06-2.06.94zm-11 1L8.5 8.5l.94-2.06 2.06-.94-2.06-.94L8.5 2.5l-.94 2.06-2.06.94zm10 10l.94 2.06.94-2.06 2.06-.94-2.06-.94-.94-2.06-.94 2.06-2.06.94z\"/><path d=\"M17.41 7.96l-1.37-1.37c-.4-.4-.92-.59-1.43-.59-.52 0-1.04.2-1.43.59L10.3 9.45l-7.72 7.72c-.78.78-.78 2.05 0 2.83L4 21.41c.39.39.9.59 1.41.59.51 0 1.02-.2 1.41-.59l7.78-7.78 2.81-2.81c.8-.78.8-2.07 0-2.86zM5.41 20L4 18.59l7.72-7.72 1.47 1.35L5.41 20z\"/>\n",
              "  </svg>\n",
              "      </button>\n",
              "      \n",
              "  <style>\n",
              "    .colab-df-container {\n",
              "      display:flex;\n",
              "      flex-wrap:wrap;\n",
              "      gap: 12px;\n",
              "    }\n",
              "\n",
              "    .colab-df-convert {\n",
              "      background-color: #E8F0FE;\n",
              "      border: none;\n",
              "      border-radius: 50%;\n",
              "      cursor: pointer;\n",
              "      display: none;\n",
              "      fill: #1967D2;\n",
              "      height: 32px;\n",
              "      padding: 0 0 0 0;\n",
              "      width: 32px;\n",
              "    }\n",
              "\n",
              "    .colab-df-convert:hover {\n",
              "      background-color: #E2EBFA;\n",
              "      box-shadow: 0px 1px 2px rgba(60, 64, 67, 0.3), 0px 1px 3px 1px rgba(60, 64, 67, 0.15);\n",
              "      fill: #174EA6;\n",
              "    }\n",
              "\n",
              "    [theme=dark] .colab-df-convert {\n",
              "      background-color: #3B4455;\n",
              "      fill: #D2E3FC;\n",
              "    }\n",
              "\n",
              "    [theme=dark] .colab-df-convert:hover {\n",
              "      background-color: #434B5C;\n",
              "      box-shadow: 0px 1px 3px 1px rgba(0, 0, 0, 0.15);\n",
              "      filter: drop-shadow(0px 1px 2px rgba(0, 0, 0, 0.3));\n",
              "      fill: #FFFFFF;\n",
              "    }\n",
              "  </style>\n",
              "\n",
              "      <script>\n",
              "        const buttonEl =\n",
              "          document.querySelector('#df-7f3aa622-d543-492d-a9b0-500729b98f89 button.colab-df-convert');\n",
              "        buttonEl.style.display =\n",
              "          google.colab.kernel.accessAllowed ? 'block' : 'none';\n",
              "\n",
              "        async function convertToInteractive(key) {\n",
              "          const element = document.querySelector('#df-7f3aa622-d543-492d-a9b0-500729b98f89');\n",
              "          const dataTable =\n",
              "            await google.colab.kernel.invokeFunction('convertToInteractive',\n",
              "                                                     [key], {});\n",
              "          if (!dataTable) return;\n",
              "\n",
              "          const docLinkHtml = 'Like what you see? Visit the ' +\n",
              "            '<a target=\"_blank\" href=https://colab.research.google.com/notebooks/data_table.ipynb>data table notebook</a>'\n",
              "            + ' to learn more about interactive tables.';\n",
              "          element.innerHTML = '';\n",
              "          dataTable['output_type'] = 'display_data';\n",
              "          await google.colab.output.renderOutput(dataTable, element);\n",
              "          const docLink = document.createElement('div');\n",
              "          docLink.innerHTML = docLinkHtml;\n",
              "          element.appendChild(docLink);\n",
              "        }\n",
              "      </script>\n",
              "    </div>\n",
              "  </div>\n",
              "  "
            ]
          },
          "metadata": {},
          "execution_count": 24
        }
      ],
      "source": [
        "df[df['Num_of_Delayed_Payment'].isnull()][:20]"
      ]
    },
    {
      "cell_type": "code",
      "execution_count": 25,
      "metadata": {
        "id": "3j_EWX8g5EP3"
      },
      "outputs": [],
      "source": [
        "df['Num_of_Delayed_Payment'] = df['Num_of_Delayed_Payment'].fillna('NAN')"
      ]
    },
    {
      "cell_type": "markdown",
      "metadata": {
        "id": "wI9wzn-xG4PH"
      },
      "source": [
        "Filling with random value for easier filtering"
      ]
    },
    {
      "cell_type": "code",
      "source": [
        "df = fillvalues(data=df,col='Num_of_Delayed_Payment')"
      ],
      "metadata": {
        "id": "xGSAKofBMcIa"
      },
      "execution_count": 26,
      "outputs": []
    },
    {
      "cell_type": "markdown",
      "source": [
        "Using that same function from the Monthly Inhand Salary Filling!!\n",
        "\n",
        "[Click Here to go to the function](#main)"
      ],
      "metadata": {
        "id": "Aqhl5iSyMi7Y"
      }
    },
    {
      "cell_type": "code",
      "execution_count": 27,
      "metadata": {
        "colab": {
          "base_uri": "https://localhost:8080/",
          "height": 0
        },
        "id": "OU2IEM867iF6",
        "outputId": "dbdb9062-ea42-4211-ca6e-52531dff4f38"
      },
      "outputs": [
        {
          "output_type": "execute_result",
          "data": {
            "text/plain": [
              "Empty DataFrame\n",
              "Columns: [ID, Customer_ID, Month, Name, Age, SSN, Occupation, Annual_Income, Monthly_Inhand_Salary, Num_Bank_Accounts, Num_Credit_Card, Interest_Rate, Num_of_Loan, Type_of_Loan, Delay_from_due_date, Num_of_Delayed_Payment, Changed_Credit_Limit, Num_Credit_Inquiries, Credit_Mix, Outstanding_Debt, Credit_Utilization_Ratio, Credit_History_Age, Payment_of_Min_Amount, Total_EMI_per_month, Amount_invested_monthly, Payment_Behaviour, Monthly_Balance, Credit_Score]\n",
              "Index: []\n",
              "\n",
              "[0 rows x 28 columns]"
            ],
            "text/html": [
              "\n",
              "  <div id=\"df-d74a02b2-4863-4317-a060-3269313ac071\">\n",
              "    <div class=\"colab-df-container\">\n",
              "      <div>\n",
              "<style scoped>\n",
              "    .dataframe tbody tr th:only-of-type {\n",
              "        vertical-align: middle;\n",
              "    }\n",
              "\n",
              "    .dataframe tbody tr th {\n",
              "        vertical-align: top;\n",
              "    }\n",
              "\n",
              "    .dataframe thead th {\n",
              "        text-align: right;\n",
              "    }\n",
              "</style>\n",
              "<table border=\"1\" class=\"dataframe\">\n",
              "  <thead>\n",
              "    <tr style=\"text-align: right;\">\n",
              "      <th></th>\n",
              "      <th>ID</th>\n",
              "      <th>Customer_ID</th>\n",
              "      <th>Month</th>\n",
              "      <th>Name</th>\n",
              "      <th>Age</th>\n",
              "      <th>SSN</th>\n",
              "      <th>Occupation</th>\n",
              "      <th>Annual_Income</th>\n",
              "      <th>Monthly_Inhand_Salary</th>\n",
              "      <th>Num_Bank_Accounts</th>\n",
              "      <th>...</th>\n",
              "      <th>Credit_Mix</th>\n",
              "      <th>Outstanding_Debt</th>\n",
              "      <th>Credit_Utilization_Ratio</th>\n",
              "      <th>Credit_History_Age</th>\n",
              "      <th>Payment_of_Min_Amount</th>\n",
              "      <th>Total_EMI_per_month</th>\n",
              "      <th>Amount_invested_monthly</th>\n",
              "      <th>Payment_Behaviour</th>\n",
              "      <th>Monthly_Balance</th>\n",
              "      <th>Credit_Score</th>\n",
              "    </tr>\n",
              "  </thead>\n",
              "  <tbody>\n",
              "  </tbody>\n",
              "</table>\n",
              "<p>0 rows × 28 columns</p>\n",
              "</div>\n",
              "      <button class=\"colab-df-convert\" onclick=\"convertToInteractive('df-d74a02b2-4863-4317-a060-3269313ac071')\"\n",
              "              title=\"Convert this dataframe to an interactive table.\"\n",
              "              style=\"display:none;\">\n",
              "        \n",
              "  <svg xmlns=\"http://www.w3.org/2000/svg\" height=\"24px\"viewBox=\"0 0 24 24\"\n",
              "       width=\"24px\">\n",
              "    <path d=\"M0 0h24v24H0V0z\" fill=\"none\"/>\n",
              "    <path d=\"M18.56 5.44l.94 2.06.94-2.06 2.06-.94-2.06-.94-.94-2.06-.94 2.06-2.06.94zm-11 1L8.5 8.5l.94-2.06 2.06-.94-2.06-.94L8.5 2.5l-.94 2.06-2.06.94zm10 10l.94 2.06.94-2.06 2.06-.94-2.06-.94-.94-2.06-.94 2.06-2.06.94z\"/><path d=\"M17.41 7.96l-1.37-1.37c-.4-.4-.92-.59-1.43-.59-.52 0-1.04.2-1.43.59L10.3 9.45l-7.72 7.72c-.78.78-.78 2.05 0 2.83L4 21.41c.39.39.9.59 1.41.59.51 0 1.02-.2 1.41-.59l7.78-7.78 2.81-2.81c.8-.78.8-2.07 0-2.86zM5.41 20L4 18.59l7.72-7.72 1.47 1.35L5.41 20z\"/>\n",
              "  </svg>\n",
              "      </button>\n",
              "      \n",
              "  <style>\n",
              "    .colab-df-container {\n",
              "      display:flex;\n",
              "      flex-wrap:wrap;\n",
              "      gap: 12px;\n",
              "    }\n",
              "\n",
              "    .colab-df-convert {\n",
              "      background-color: #E8F0FE;\n",
              "      border: none;\n",
              "      border-radius: 50%;\n",
              "      cursor: pointer;\n",
              "      display: none;\n",
              "      fill: #1967D2;\n",
              "      height: 32px;\n",
              "      padding: 0 0 0 0;\n",
              "      width: 32px;\n",
              "    }\n",
              "\n",
              "    .colab-df-convert:hover {\n",
              "      background-color: #E2EBFA;\n",
              "      box-shadow: 0px 1px 2px rgba(60, 64, 67, 0.3), 0px 1px 3px 1px rgba(60, 64, 67, 0.15);\n",
              "      fill: #174EA6;\n",
              "    }\n",
              "\n",
              "    [theme=dark] .colab-df-convert {\n",
              "      background-color: #3B4455;\n",
              "      fill: #D2E3FC;\n",
              "    }\n",
              "\n",
              "    [theme=dark] .colab-df-convert:hover {\n",
              "      background-color: #434B5C;\n",
              "      box-shadow: 0px 1px 3px 1px rgba(0, 0, 0, 0.15);\n",
              "      filter: drop-shadow(0px 1px 2px rgba(0, 0, 0, 0.3));\n",
              "      fill: #FFFFFF;\n",
              "    }\n",
              "  </style>\n",
              "\n",
              "      <script>\n",
              "        const buttonEl =\n",
              "          document.querySelector('#df-d74a02b2-4863-4317-a060-3269313ac071 button.colab-df-convert');\n",
              "        buttonEl.style.display =\n",
              "          google.colab.kernel.accessAllowed ? 'block' : 'none';\n",
              "\n",
              "        async function convertToInteractive(key) {\n",
              "          const element = document.querySelector('#df-d74a02b2-4863-4317-a060-3269313ac071');\n",
              "          const dataTable =\n",
              "            await google.colab.kernel.invokeFunction('convertToInteractive',\n",
              "                                                     [key], {});\n",
              "          if (!dataTable) return;\n",
              "\n",
              "          const docLinkHtml = 'Like what you see? Visit the ' +\n",
              "            '<a target=\"_blank\" href=https://colab.research.google.com/notebooks/data_table.ipynb>data table notebook</a>'\n",
              "            + ' to learn more about interactive tables.';\n",
              "          element.innerHTML = '';\n",
              "          dataTable['output_type'] = 'display_data';\n",
              "          await google.colab.output.renderOutput(dataTable, element);\n",
              "          const docLink = document.createElement('div');\n",
              "          docLink.innerHTML = docLinkHtml;\n",
              "          element.appendChild(docLink);\n",
              "        }\n",
              "      </script>\n",
              "    </div>\n",
              "  </div>\n",
              "  "
            ]
          },
          "metadata": {},
          "execution_count": 27
        }
      ],
      "source": [
        "df[df['Num_of_Delayed_Payment'] == 'NAN']"
      ]
    },
    {
      "cell_type": "code",
      "execution_count": 28,
      "metadata": {
        "id": "v9-Ng4fP7mkX"
      },
      "outputs": [],
      "source": [
        "df.to_csv('train3.csv')"
      ]
    },
    {
      "cell_type": "markdown",
      "metadata": {
        "id": "pusQODa-HCgB"
      },
      "source": [
        "## Credit History Age Column Filling"
      ]
    },
    {
      "cell_type": "code",
      "execution_count": 29,
      "metadata": {
        "colab": {
          "base_uri": "https://localhost:8080/"
        },
        "id": "uS7_1-0y8Sx7",
        "outputId": "1eefa50e-ccc9-4fc0-c8a4-e0c615ccdf6f"
      },
      "outputs": [
        {
          "output_type": "execute_result",
          "data": {
            "text/plain": [
              "ID                             0\n",
              "Customer_ID                    0\n",
              "Month                          0\n",
              "Name                           0\n",
              "Age                            0\n",
              "SSN                            0\n",
              "Occupation                     0\n",
              "Annual_Income                  0\n",
              "Monthly_Inhand_Salary          0\n",
              "Num_Bank_Accounts              0\n",
              "Num_Credit_Card                0\n",
              "Interest_Rate                  0\n",
              "Num_of_Loan                    0\n",
              "Type_of_Loan                   0\n",
              "Delay_from_due_date            0\n",
              "Num_of_Delayed_Payment         0\n",
              "Changed_Credit_Limit           0\n",
              "Num_Credit_Inquiries        1965\n",
              "Credit_Mix                     0\n",
              "Outstanding_Debt               0\n",
              "Credit_Utilization_Ratio       0\n",
              "Credit_History_Age          9030\n",
              "Payment_of_Min_Amount          0\n",
              "Total_EMI_per_month            0\n",
              "Amount_invested_monthly     4479\n",
              "Payment_Behaviour              0\n",
              "Monthly_Balance             1200\n",
              "Credit_Score                   0\n",
              "dtype: int64"
            ]
          },
          "metadata": {},
          "execution_count": 29
        }
      ],
      "source": [
        "df.isnull().sum()"
      ]
    },
    {
      "cell_type": "code",
      "execution_count": 30,
      "metadata": {
        "colab": {
          "base_uri": "https://localhost:8080/"
        },
        "id": "THiaeFzq9SOj",
        "outputId": "2d1d2f4f-f1f0-400c-ff41-dd1ef21878c4"
      },
      "outputs": [
        {
          "output_type": "execute_result",
          "data": {
            "text/plain": [
              "9030"
            ]
          },
          "metadata": {},
          "execution_count": 30
        }
      ],
      "source": [
        "df['Credit_History_Age'].isnull().sum()"
      ]
    },
    {
      "cell_type": "code",
      "execution_count": 31,
      "metadata": {
        "id": "tV25DXS-9ZT1"
      },
      "outputs": [],
      "source": [
        "df = fillvalues(data=df,col='Credit_History_Age')"
      ]
    },
    {
      "cell_type": "markdown",
      "source": [
        "Using that same function from the Monthly Inhand Salary Filling!!\n",
        "\n",
        "[Click Here to go to the function](#main)"
      ],
      "metadata": {
        "id": "Mwbi1Vm1OsGC"
      }
    },
    {
      "cell_type": "code",
      "execution_count": 32,
      "metadata": {
        "id": "oG36gOVX9s-U",
        "colab": {
          "base_uri": "https://localhost:8080/",
          "height": 0
        },
        "outputId": "e68ee89b-f6a8-46e1-8ee7-2c3ca0f8a2c9"
      },
      "outputs": [
        {
          "output_type": "execute_result",
          "data": {
            "text/plain": [
              "Empty DataFrame\n",
              "Columns: [ID, Customer_ID, Month, Name, Age, SSN, Occupation, Annual_Income, Monthly_Inhand_Salary, Num_Bank_Accounts, Num_Credit_Card, Interest_Rate, Num_of_Loan, Type_of_Loan, Delay_from_due_date, Num_of_Delayed_Payment, Changed_Credit_Limit, Num_Credit_Inquiries, Credit_Mix, Outstanding_Debt, Credit_Utilization_Ratio, Credit_History_Age, Payment_of_Min_Amount, Total_EMI_per_month, Amount_invested_monthly, Payment_Behaviour, Monthly_Balance, Credit_Score]\n",
              "Index: []\n",
              "\n",
              "[0 rows x 28 columns]"
            ],
            "text/html": [
              "\n",
              "  <div id=\"df-f5e08508-bcc1-4c83-b7e9-c328246ca9a2\">\n",
              "    <div class=\"colab-df-container\">\n",
              "      <div>\n",
              "<style scoped>\n",
              "    .dataframe tbody tr th:only-of-type {\n",
              "        vertical-align: middle;\n",
              "    }\n",
              "\n",
              "    .dataframe tbody tr th {\n",
              "        vertical-align: top;\n",
              "    }\n",
              "\n",
              "    .dataframe thead th {\n",
              "        text-align: right;\n",
              "    }\n",
              "</style>\n",
              "<table border=\"1\" class=\"dataframe\">\n",
              "  <thead>\n",
              "    <tr style=\"text-align: right;\">\n",
              "      <th></th>\n",
              "      <th>ID</th>\n",
              "      <th>Customer_ID</th>\n",
              "      <th>Month</th>\n",
              "      <th>Name</th>\n",
              "      <th>Age</th>\n",
              "      <th>SSN</th>\n",
              "      <th>Occupation</th>\n",
              "      <th>Annual_Income</th>\n",
              "      <th>Monthly_Inhand_Salary</th>\n",
              "      <th>Num_Bank_Accounts</th>\n",
              "      <th>...</th>\n",
              "      <th>Credit_Mix</th>\n",
              "      <th>Outstanding_Debt</th>\n",
              "      <th>Credit_Utilization_Ratio</th>\n",
              "      <th>Credit_History_Age</th>\n",
              "      <th>Payment_of_Min_Amount</th>\n",
              "      <th>Total_EMI_per_month</th>\n",
              "      <th>Amount_invested_monthly</th>\n",
              "      <th>Payment_Behaviour</th>\n",
              "      <th>Monthly_Balance</th>\n",
              "      <th>Credit_Score</th>\n",
              "    </tr>\n",
              "  </thead>\n",
              "  <tbody>\n",
              "  </tbody>\n",
              "</table>\n",
              "<p>0 rows × 28 columns</p>\n",
              "</div>\n",
              "      <button class=\"colab-df-convert\" onclick=\"convertToInteractive('df-f5e08508-bcc1-4c83-b7e9-c328246ca9a2')\"\n",
              "              title=\"Convert this dataframe to an interactive table.\"\n",
              "              style=\"display:none;\">\n",
              "        \n",
              "  <svg xmlns=\"http://www.w3.org/2000/svg\" height=\"24px\"viewBox=\"0 0 24 24\"\n",
              "       width=\"24px\">\n",
              "    <path d=\"M0 0h24v24H0V0z\" fill=\"none\"/>\n",
              "    <path d=\"M18.56 5.44l.94 2.06.94-2.06 2.06-.94-2.06-.94-.94-2.06-.94 2.06-2.06.94zm-11 1L8.5 8.5l.94-2.06 2.06-.94-2.06-.94L8.5 2.5l-.94 2.06-2.06.94zm10 10l.94 2.06.94-2.06 2.06-.94-2.06-.94-.94-2.06-.94 2.06-2.06.94z\"/><path d=\"M17.41 7.96l-1.37-1.37c-.4-.4-.92-.59-1.43-.59-.52 0-1.04.2-1.43.59L10.3 9.45l-7.72 7.72c-.78.78-.78 2.05 0 2.83L4 21.41c.39.39.9.59 1.41.59.51 0 1.02-.2 1.41-.59l7.78-7.78 2.81-2.81c.8-.78.8-2.07 0-2.86zM5.41 20L4 18.59l7.72-7.72 1.47 1.35L5.41 20z\"/>\n",
              "  </svg>\n",
              "      </button>\n",
              "      \n",
              "  <style>\n",
              "    .colab-df-container {\n",
              "      display:flex;\n",
              "      flex-wrap:wrap;\n",
              "      gap: 12px;\n",
              "    }\n",
              "\n",
              "    .colab-df-convert {\n",
              "      background-color: #E8F0FE;\n",
              "      border: none;\n",
              "      border-radius: 50%;\n",
              "      cursor: pointer;\n",
              "      display: none;\n",
              "      fill: #1967D2;\n",
              "      height: 32px;\n",
              "      padding: 0 0 0 0;\n",
              "      width: 32px;\n",
              "    }\n",
              "\n",
              "    .colab-df-convert:hover {\n",
              "      background-color: #E2EBFA;\n",
              "      box-shadow: 0px 1px 2px rgba(60, 64, 67, 0.3), 0px 1px 3px 1px rgba(60, 64, 67, 0.15);\n",
              "      fill: #174EA6;\n",
              "    }\n",
              "\n",
              "    [theme=dark] .colab-df-convert {\n",
              "      background-color: #3B4455;\n",
              "      fill: #D2E3FC;\n",
              "    }\n",
              "\n",
              "    [theme=dark] .colab-df-convert:hover {\n",
              "      background-color: #434B5C;\n",
              "      box-shadow: 0px 1px 3px 1px rgba(0, 0, 0, 0.15);\n",
              "      filter: drop-shadow(0px 1px 2px rgba(0, 0, 0, 0.3));\n",
              "      fill: #FFFFFF;\n",
              "    }\n",
              "  </style>\n",
              "\n",
              "      <script>\n",
              "        const buttonEl =\n",
              "          document.querySelector('#df-f5e08508-bcc1-4c83-b7e9-c328246ca9a2 button.colab-df-convert');\n",
              "        buttonEl.style.display =\n",
              "          google.colab.kernel.accessAllowed ? 'block' : 'none';\n",
              "\n",
              "        async function convertToInteractive(key) {\n",
              "          const element = document.querySelector('#df-f5e08508-bcc1-4c83-b7e9-c328246ca9a2');\n",
              "          const dataTable =\n",
              "            await google.colab.kernel.invokeFunction('convertToInteractive',\n",
              "                                                     [key], {});\n",
              "          if (!dataTable) return;\n",
              "\n",
              "          const docLinkHtml = 'Like what you see? Visit the ' +\n",
              "            '<a target=\"_blank\" href=https://colab.research.google.com/notebooks/data_table.ipynb>data table notebook</a>'\n",
              "            + ' to learn more about interactive tables.';\n",
              "          element.innerHTML = '';\n",
              "          dataTable['output_type'] = 'display_data';\n",
              "          await google.colab.output.renderOutput(dataTable, element);\n",
              "          const docLink = document.createElement('div');\n",
              "          docLink.innerHTML = docLinkHtml;\n",
              "          element.appendChild(docLink);\n",
              "        }\n",
              "      </script>\n",
              "    </div>\n",
              "  </div>\n",
              "  "
            ]
          },
          "metadata": {},
          "execution_count": 32
        }
      ],
      "source": [
        "df[df['Credit_History_Age']== 'NAN']"
      ]
    },
    {
      "cell_type": "markdown",
      "metadata": {
        "id": "IGIq64A-HLX2"
      },
      "source": [
        "## Number of Credit Inquiries Column Filling"
      ]
    },
    {
      "cell_type": "code",
      "execution_count": 33,
      "metadata": {
        "id": "Hv19cTjY9x2l",
        "colab": {
          "base_uri": "https://localhost:8080/"
        },
        "outputId": "c6580992-6c3a-40ed-caa6-5864717de921"
      },
      "outputs": [
        {
          "output_type": "execute_result",
          "data": {
            "text/plain": [
              "ID                             0\n",
              "Customer_ID                    0\n",
              "Month                          0\n",
              "Name                           0\n",
              "Age                            0\n",
              "SSN                            0\n",
              "Occupation                     0\n",
              "Annual_Income                  0\n",
              "Monthly_Inhand_Salary          0\n",
              "Num_Bank_Accounts              0\n",
              "Num_Credit_Card                0\n",
              "Interest_Rate                  0\n",
              "Num_of_Loan                    0\n",
              "Type_of_Loan                   0\n",
              "Delay_from_due_date            0\n",
              "Num_of_Delayed_Payment         0\n",
              "Changed_Credit_Limit           0\n",
              "Num_Credit_Inquiries        1965\n",
              "Credit_Mix                     0\n",
              "Outstanding_Debt               0\n",
              "Credit_Utilization_Ratio       0\n",
              "Credit_History_Age             0\n",
              "Payment_of_Min_Amount          0\n",
              "Total_EMI_per_month            0\n",
              "Amount_invested_monthly     4479\n",
              "Payment_Behaviour              0\n",
              "Monthly_Balance             1200\n",
              "Credit_Score                   0\n",
              "dtype: int64"
            ]
          },
          "metadata": {},
          "execution_count": 33
        }
      ],
      "source": [
        "df.isnull().sum()"
      ]
    },
    {
      "cell_type": "code",
      "execution_count": 34,
      "metadata": {
        "id": "gn8HzQtH-bnw"
      },
      "outputs": [],
      "source": [
        "fillvalues(data=df,col='Num_Credit_Inquiries')"
      ]
    },
    {
      "cell_type": "markdown",
      "metadata": {
        "id": "tYalO45nHZEg"
      },
      "source": [
        "## Amount Invested Monthly Column Filling"
      ]
    },
    {
      "cell_type": "code",
      "execution_count": 35,
      "metadata": {
        "id": "e7XLhK3X-okm"
      },
      "outputs": [],
      "source": [
        "df.head(8)[['Annual_Income','Monthly_Inhand_Salary','Interest_Rate','Num_of_Loan','Outstanding_Debt','Payment_of_Min_Amount','Total_EMI_per_month','Amount_invested_monthly','Monthly_Balance']]"
      ]
    },
    {
      "cell_type": "markdown",
      "metadata": {
        "id": "aKSjRgyqHdzw"
      },
      "source": [
        "Found some \"__10000__\" in the data so handling them before filling with mean"
      ]
    },
    {
      "cell_type": "code",
      "execution_count": 36,
      "metadata": {
        "id": "dRflOc0VD_It"
      },
      "outputs": [],
      "source": [
        "df['Amount_invested_monthly'] = df['Amount_invested_monthly'].replace({\"__10000__\":np.nan})"
      ]
    },
    {
      "cell_type": "code",
      "execution_count": 41,
      "metadata": {
        "id": "GwDvx9gf_b0X"
      },
      "outputs": [],
      "source": [
        "for i in range(df.shape[0]):\n",
        "  if pd.isnull(df.loc[i,'Amount_invested_monthly']):\n",
        "    df.loc[i,'Amount_invested_monthly'] = df[df['Customer_ID'] == df.loc[i,'Customer_ID']]['Amount_invested_monthly'].apply(pd.to_numeric).mean()"
      ]
    },
    {
      "cell_type": "markdown",
      "metadata": {
        "id": "mIwrE1U1Hl62"
      },
      "source": [
        "I have calculated the mean for each customer and used it to fill the null value.\n",
        "I could have just calculated the entire column mean but filling of specific customer made more sense!!"
      ]
    },
    {
      "cell_type": "markdown",
      "metadata": {
        "id": "T5_KB7WAH0HL"
      },
      "source": [
        "## Monthly Balance Column Filling "
      ]
    },
    {
      "cell_type": "code",
      "execution_count": null,
      "metadata": {
        "id": "9fbxm_e6AO3-"
      },
      "outputs": [],
      "source": [
        "df.isnull().sum()"
      ]
    },
    {
      "cell_type": "code",
      "execution_count": null,
      "metadata": {
        "id": "1P6tga6HFZDt"
      },
      "outputs": [],
      "source": [
        "for i in range(df.shape[0]):\n",
        "  if pd.isnull(df.loc[i,'Monthly_Balance']):\n",
        "    df.loc[i,'Monthly_Balance'] = df[df['Customer_ID'] == df.loc[i,'Customer_ID']]['Monthly_Balance'].apply(pd.to_numeric).mean()"
      ]
    },
    {
      "cell_type": "code",
      "execution_count": null,
      "metadata": {
        "id": "P3_VbQ12Fd2f"
      },
      "outputs": [],
      "source": [
        "df.isnull().sum()"
      ]
    },
    {
      "cell_type": "markdown",
      "source": [
        "Our Dataset is finally cleaned!!"
      ],
      "metadata": {
        "id": "LHgW3jcLQd3-"
      }
    },
    {
      "cell_type": "markdown",
      "metadata": {
        "id": "gW4CF0dyJGxb"
      },
      "source": [
        "# Saving the Cleaned Dataset for further processing"
      ]
    },
    {
      "cell_type": "code",
      "execution_count": 42,
      "metadata": {
        "id": "mfxYearvFghZ"
      },
      "outputs": [],
      "source": [
        "df.to_csv('train_cleaned.csv')"
      ]
    },
    {
      "cell_type": "code",
      "execution_count": 43,
      "metadata": {
        "id": "upYKwqEdH89a"
      },
      "outputs": [],
      "source": [
        "from google.colab import files\n",
        "files.download('/content/train_cleaned.csv') "
      ]
    },
    {
      "cell_type": "markdown",
      "source": [
        "# Data PreProcessing"
      ],
      "metadata": {
        "id": "w-Mcj9ZIfYue"
      }
    },
    {
      "cell_type": "code",
      "source": [
        "df = pd.read_csv('/content/train_cleaned.csv')"
      ],
      "metadata": {
        "colab": {
          "base_uri": "https://localhost:8080/"
        },
        "id": "JV3lyQ9tVCwA",
        "outputId": "8606eb3f-73c4-4747-f63d-68680ec5c928"
      },
      "execution_count": 44,
      "outputs": [
        {
          "output_type": "stream",
          "name": "stderr",
          "text": [
            "/usr/local/lib/python3.7/dist-packages/IPython/core/interactiveshell.py:2882: DtypeWarning: Columns (27) have mixed types.Specify dtype option on import or set low_memory=False.\n",
            "  exec(code_obj, self.user_global_ns, self.user_ns)\n"
          ]
        }
      ]
    },
    {
      "cell_type": "code",
      "source": [
        "df.info()"
      ],
      "metadata": {
        "id": "HtD0Gq5xzyw8",
        "colab": {
          "base_uri": "https://localhost:8080/"
        },
        "outputId": "9a231d1e-93de-470a-96e9-45c9befcf171"
      },
      "execution_count": 45,
      "outputs": [
        {
          "output_type": "stream",
          "name": "stdout",
          "text": [
            "<class 'pandas.core.frame.DataFrame'>\n",
            "RangeIndex: 100000 entries, 0 to 99999\n",
            "Data columns (total 29 columns):\n",
            " #   Column                    Non-Null Count   Dtype  \n",
            "---  ------                    --------------   -----  \n",
            " 0   Unnamed: 0                100000 non-null  int64  \n",
            " 1   ID                        100000 non-null  object \n",
            " 2   Customer_ID               100000 non-null  object \n",
            " 3   Month                     100000 non-null  object \n",
            " 4   Name                      100000 non-null  object \n",
            " 5   Age                       100000 non-null  object \n",
            " 6   SSN                       100000 non-null  object \n",
            " 7   Occupation                100000 non-null  object \n",
            " 8   Annual_Income             100000 non-null  object \n",
            " 9   Monthly_Inhand_Salary     100000 non-null  float64\n",
            " 10  Num_Bank_Accounts         100000 non-null  int64  \n",
            " 11  Num_Credit_Card           100000 non-null  int64  \n",
            " 12  Interest_Rate             100000 non-null  int64  \n",
            " 13  Num_of_Loan               100000 non-null  object \n",
            " 14  Type_of_Loan              100000 non-null  object \n",
            " 15  Delay_from_due_date       100000 non-null  int64  \n",
            " 16  Num_of_Delayed_Payment    100000 non-null  object \n",
            " 17  Changed_Credit_Limit      100000 non-null  object \n",
            " 18  Num_Credit_Inquiries      100000 non-null  float64\n",
            " 19  Credit_Mix                100000 non-null  object \n",
            " 20  Outstanding_Debt          100000 non-null  object \n",
            " 21  Credit_Utilization_Ratio  100000 non-null  float64\n",
            " 22  Credit_History_Age        100000 non-null  object \n",
            " 23  Payment_of_Min_Amount     100000 non-null  object \n",
            " 24  Total_EMI_per_month       100000 non-null  float64\n",
            " 25  Amount_invested_monthly   100000 non-null  float64\n",
            " 26  Payment_Behaviour         100000 non-null  object \n",
            " 27  Monthly_Balance           100000 non-null  object \n",
            " 28  Credit_Score              100000 non-null  object \n",
            "dtypes: float64(5), int64(5), object(19)\n",
            "memory usage: 22.1+ MB\n"
          ]
        }
      ]
    },
    {
      "cell_type": "markdown",
      "source": [
        "Many columns such as Age have **Object** type and on closer inspection on Excel, I found that many columns have irrelevant/garbage data.\n",
        "So let's handle that first!!"
      ],
      "metadata": {
        "id": "BGRZ3KYwaObt"
      }
    },
    {
      "cell_type": "markdown",
      "source": [
        "## Age Column Fixing"
      ],
      "metadata": {
        "id": "frcyKvIValqc"
      }
    },
    {
      "cell_type": "code",
      "source": [
        "df['Age'].nunique()"
      ],
      "metadata": {
        "id": "duKK-weg0Aus",
        "colab": {
          "base_uri": "https://localhost:8080/"
        },
        "outputId": "76f5fae2-83b0-456c-cbc4-04b82a0eaf74"
      },
      "execution_count": 46,
      "outputs": [
        {
          "output_type": "execute_result",
          "data": {
            "text/plain": [
              "1788"
            ]
          },
          "metadata": {},
          "execution_count": 46
        }
      ]
    },
    {
      "cell_type": "code",
      "source": [
        "for i in range(100):\n",
        "  if len(df.loc[i,'Age'])>2:\n",
        "    print(i,df.loc[i,'Age'])"
      ],
      "metadata": {
        "id": "3jg_cvVF0HeQ",
        "colab": {
          "base_uri": "https://localhost:8080/"
        },
        "outputId": "53e8d4d0-5ce4-4182-f4d5-1278f238a713"
      },
      "execution_count": 47,
      "outputs": [
        {
          "output_type": "stream",
          "name": "stdout",
          "text": [
            "2 -500\n",
            "8 28_\n",
            "54 34_\n",
            "56 7580\n",
            "58 30_\n",
            "71 24_\n",
            "89 33_\n",
            "97 35_\n"
          ]
        }
      ]
    },
    {
      "cell_type": "code",
      "source": [
        "def fixvalues(data=None,col=None,leng=False):\n",
        "  for i in range(df.shape[0]):\n",
        "    if len(data.loc[i,col])>leng:\n",
        "      j=i+1\n",
        "      if data.loc[i,'Customer_ID'] == data.loc[j,'Customer_ID']:\n",
        "        while(len(data.loc[j,col])>2):\n",
        "          j+=1\n",
        "        data.loc[i,col]=data.loc[j,col]\n",
        "\n",
        "  for i in range(data.shape[0]):\n",
        "    if len(data.loc[i,col])>2:\n",
        "      j=i-1\n",
        "      if data.loc[i,'Customer_ID'] == data.loc[j,'Customer_ID']:\n",
        "        data.loc[i,col]=data.loc[j,col]\n",
        "  return data"
      ],
      "metadata": {
        "id": "gG6qayDd0dQ2"
      },
      "execution_count": 48,
      "outputs": []
    },
    {
      "cell_type": "code",
      "source": [
        "df = fixvalues(data=df,col='Age',leng=2)"
      ],
      "metadata": {
        "id": "8-rWu86i3Zes"
      },
      "execution_count": 49,
      "outputs": []
    },
    {
      "cell_type": "code",
      "source": [
        "for i in range(100000):\n",
        "  if len(df.loc[i,'Age'])>2:\n",
        "    print(i,df.loc[i,'Age'])"
      ],
      "metadata": {
        "id": "Us8DIB5W3vTS"
      },
      "execution_count": 50,
      "outputs": []
    },
    {
      "cell_type": "code",
      "source": [
        "df['Age'] = df['Age'].apply(pd.to_numeric)"
      ],
      "metadata": {
        "id": "Wf9pf8mE5mTX"
      },
      "execution_count": 51,
      "outputs": []
    },
    {
      "cell_type": "markdown",
      "source": [
        "## Number of Bank Accounts Column Fixing"
      ],
      "metadata": {
        "id": "dJNX-4--asaZ"
      }
    },
    {
      "cell_type": "code",
      "source": [
        "for i in range(100):\n",
        "  if df.loc[i,'Num_Bank_Accounts'] > 12:\n",
        "    print(i,df.loc[i,'Num_Bank_Accounts'])"
      ],
      "metadata": {
        "id": "sbzw4LCp6XI_"
      },
      "execution_count": 52,
      "outputs": []
    },
    {
      "cell_type": "code",
      "source": [
        "def fixnumcard(data=None,col=None):\n",
        "  for i in range(df.shape[0]):\n",
        "    if data.loc[i,col] > 12  or data.loc[i,col] < 0:\n",
        "      j=i+1\n",
        "      if data.loc[i,'Customer_ID'] == data.loc[j,'Customer_ID']:\n",
        "        while(data.loc[j,col] > 12  or data.loc[j,col] < 0):\n",
        "          j+=1\n",
        "        data.loc[i,col]=data.loc[j,col]\n",
        "\n",
        "  for i in range(data.shape[0]):\n",
        "    if data.loc[i,col] > 12  or data.loc[i,col] < 0:\n",
        "      j=i-1\n",
        "      if data.loc[i,'Customer_ID'] == data.loc[j,'Customer_ID']:\n",
        "        data.loc[i,col]=data.loc[j,col]\n",
        "  return data"
      ],
      "metadata": {
        "id": "Md-T_Fwy9QVg"
      },
      "execution_count": 53,
      "outputs": []
    },
    {
      "cell_type": "code",
      "source": [
        "df = fixnumcard(data=df,col='Num_Bank_Accounts')"
      ],
      "metadata": {
        "id": "7I9nwbG3_wMq"
      },
      "execution_count": 54,
      "outputs": []
    },
    {
      "cell_type": "code",
      "source": [
        "for i in range(100000):\n",
        "  if df.loc[i,'Num_Bank_Accounts'] > 12  or df.loc[i,'Num_Bank_Accounts'] < 0:\n",
        "    print(i,df.loc[i,'Num_Bank_Accounts'])"
      ],
      "metadata": {
        "id": "xJbeDwFz_4ie"
      },
      "execution_count": 55,
      "outputs": []
    },
    {
      "cell_type": "code",
      "source": [
        "df.to_csv('train_5.csv')"
      ],
      "metadata": {
        "id": "eDpMIKd-A42a"
      },
      "execution_count": 56,
      "outputs": []
    },
    {
      "cell_type": "markdown",
      "source": [
        "## Number of Credit Cards Column Fixing"
      ],
      "metadata": {
        "id": "gybMI4QrfhPw"
      }
    },
    {
      "cell_type": "code",
      "source": [
        "for i in range(100):\n",
        "  if df.loc[i,'Num_Credit_Card'] > 12 or df.loc[i,'Num_Credit_Card'] < 0:\n",
        "    print(i,df.loc[i,'Num_Credit_Card'])"
      ],
      "metadata": {
        "id": "eKyoUZQtER3w",
        "colab": {
          "base_uri": "https://localhost:8080/"
        },
        "outputId": "0a863db3-0652-4dc3-de99-92049584bd9b"
      },
      "execution_count": 57,
      "outputs": [
        {
          "output_type": "stream",
          "name": "stdout",
          "text": [
            "10 1385\n",
            "40 1288\n"
          ]
        }
      ]
    },
    {
      "cell_type": "code",
      "source": [
        "df = fixnumcard(data=df,col='Num_Credit_Card')"
      ],
      "metadata": {
        "id": "YBzq4DSuFA1s"
      },
      "execution_count": 58,
      "outputs": []
    },
    {
      "cell_type": "code",
      "source": [
        "for i in range(100000):\n",
        "  if df.loc[i,'Num_Credit_Card'] > 12  or df.loc[i,'Num_Credit_Card'] < 0:\n",
        "    print(i,df.loc[i,'Num_Credit_Card'])"
      ],
      "metadata": {
        "id": "1ad6Ow_YFMeM"
      },
      "execution_count": 59,
      "outputs": []
    },
    {
      "cell_type": "code",
      "source": [
        "df.to_csv('train_6.csv')"
      ],
      "metadata": {
        "id": "bFxqKSgrFSFc"
      },
      "execution_count": 60,
      "outputs": []
    },
    {
      "cell_type": "markdown",
      "source": [
        "## Interest Rate Column Fixing"
      ],
      "metadata": {
        "id": "h30ceI7KfpmY"
      }
    },
    {
      "cell_type": "code",
      "source": [
        "for i in range(1000):\n",
        "  if df.loc[i,'Interest_Rate'] > 34 or df.loc[i,'Interest_Rate'] < 0:\n",
        "    print(i,df.loc[i,'Interest_Rate'])"
      ],
      "metadata": {
        "id": "MD7iWvA_FaJj",
        "colab": {
          "base_uri": "https://localhost:8080/"
        },
        "outputId": "b4a3de4f-5b54-439f-968f-8ec9f1d25f56"
      },
      "execution_count": 61,
      "outputs": [
        {
          "output_type": "stream",
          "name": "stdout",
          "text": [
            "44 5318\n",
            "89 433\n",
            "167 5240\n",
            "178 4975\n",
            "229 668\n",
            "325 753\n",
            "344 748\n",
            "345 1138\n",
            "472 5261\n",
            "482 3238\n",
            "514 2607\n",
            "559 2724\n",
            "609 1224\n",
            "719 570\n",
            "735 207\n",
            "766 3366\n",
            "770 5565\n",
            "831 713\n",
            "835 3951\n",
            "848 5189\n",
            "853 872\n",
            "886 2199\n",
            "893 2862\n",
            "901 3863\n",
            "947 3579\n",
            "956 1649\n"
          ]
        }
      ]
    },
    {
      "cell_type": "code",
      "source": [
        "def fixinterest(data=None,col=None):\n",
        "  for i in range(df.shape[0]):\n",
        "    if data.loc[i,col] > 34  or data.loc[i,col] < 0:\n",
        "      j=i+1\n",
        "      if data.loc[i,'Customer_ID'] == data.loc[j,'Customer_ID']:\n",
        "        while(data.loc[j,col] > 34  or data.loc[j,col] < 0):\n",
        "          j+=1\n",
        "        data.loc[i,col]=data.loc[j,col]\n",
        "\n",
        "  for i in range(data.shape[0]):\n",
        "    if data.loc[i,col] > 34  or data.loc[i,col] < 0:\n",
        "      j=i-1\n",
        "      if data.loc[i,'Customer_ID'] == data.loc[j,'Customer_ID']:\n",
        "        data.loc[i,col]=data.loc[j,col]\n",
        "  return data"
      ],
      "metadata": {
        "id": "b3hS8UFYGHKG"
      },
      "execution_count": 62,
      "outputs": []
    },
    {
      "cell_type": "code",
      "source": [
        "df = fixinterest(data=df,col='Interest_Rate')"
      ],
      "metadata": {
        "id": "a-qK8BFjGZiz"
      },
      "execution_count": 63,
      "outputs": []
    },
    {
      "cell_type": "code",
      "source": [
        "for i in range(100000):\n",
        "  if df.loc[i,'Interest_Rate'] > 34 or df.loc[i,'Interest_Rate'] < 0:\n",
        "    print(i,df.loc[i,'Interest_Rate'])"
      ],
      "metadata": {
        "id": "MIn3dVg1Glpi"
      },
      "execution_count": 64,
      "outputs": []
    },
    {
      "cell_type": "markdown",
      "source": [
        "## Number of Loans Column Fixing"
      ],
      "metadata": {
        "id": "WOs58bWpfy6K"
      }
    },
    {
      "cell_type": "code",
      "source": [
        "for i in range(100):\n",
        "  if len(df.loc[i,'Num_of_Loan']) > 1:\n",
        "    print(i,df.loc[i,'Num_of_Loan'])"
      ],
      "metadata": {
        "id": "5M1ywtUpGqPS",
        "colab": {
          "base_uri": "https://localhost:8080/"
        },
        "outputId": "649f8d5b-4dbb-4d2e-cdbd-c48f96bd2100"
      },
      "execution_count": 65,
      "outputs": [
        {
          "output_type": "stream",
          "name": "stdout",
          "text": [
            "21 967\n",
            "31 -100\n",
            "34 -100\n",
            "37 0_\n",
            "39 -100\n",
            "53 -100\n",
            "61 -100\n",
            "64 -100\n",
            "78 -100\n",
            "80 3_\n",
            "84 3_\n",
            "94 2_\n"
          ]
        }
      ]
    },
    {
      "cell_type": "code",
      "source": [
        "def fixvalues(data=None,col=None):\n",
        "  for i in range(df.shape[0]):\n",
        "    if len(data.loc[i,col])>1:\n",
        "      j=i+1\n",
        "      if data.loc[i,'Customer_ID'] == data.loc[j,'Customer_ID']:\n",
        "        while(len(data.loc[j,col])>1):\n",
        "          j+=1\n",
        "        data.loc[i,col]=data.loc[j,col]\n",
        "\n",
        "  for i in range(data.shape[0]):\n",
        "    if len(data.loc[i,col])>1:\n",
        "      j=i-1\n",
        "      if data.loc[i,'Customer_ID'] == data.loc[j,'Customer_ID']:\n",
        "        data.loc[i,col]=data.loc[j,col]\n",
        "  return data"
      ],
      "metadata": {
        "id": "LGCNOE2cG1bY"
      },
      "execution_count": 66,
      "outputs": []
    },
    {
      "cell_type": "code",
      "source": [
        "df = fixvalues(data=df,col='Num_of_Loan')"
      ],
      "metadata": {
        "id": "6FgShm8uHI92"
      },
      "execution_count": 67,
      "outputs": []
    },
    {
      "cell_type": "code",
      "source": [
        "for i in range(100000):\n",
        "  if len(df.loc[i,'Num_of_Loan']) > 1:\n",
        "    print(i,df.loc[i,'Num_of_Loan'])"
      ],
      "metadata": {
        "id": "cmsTi7WuHPCe"
      },
      "execution_count": 68,
      "outputs": []
    },
    {
      "cell_type": "markdown",
      "source": [
        "## Delay of Due Date Column Fixing"
      ],
      "metadata": {
        "id": "nTtFu4jYf3mx"
      }
    },
    {
      "cell_type": "code",
      "source": [
        "df['Delay_from_due_date'].dtype"
      ],
      "metadata": {
        "id": "EXAH9-5wHZz6",
        "colab": {
          "base_uri": "https://localhost:8080/"
        },
        "outputId": "cf35760a-4424-4246-efad-f3b07db36357"
      },
      "execution_count": 69,
      "outputs": [
        {
          "output_type": "execute_result",
          "data": {
            "text/plain": [
              "dtype('int64')"
            ]
          },
          "metadata": {},
          "execution_count": 69
        }
      ]
    },
    {
      "cell_type": "markdown",
      "source": [
        "## Number of Delayed Payment Column Fixing"
      ],
      "metadata": {
        "id": "x_-3IBDDf_4G"
      }
    },
    {
      "cell_type": "code",
      "source": [
        "for i in range(100000):\n",
        "  if df.loc[i,'Num_of_Delayed_Payment'][-1] == '_':\n",
        "    df.loc[i,'Num_of_Delayed_Payment'] = df.loc[i,'Num_of_Delayed_Payment'][:-1]"
      ],
      "metadata": {
        "id": "hnmyPMClHnAF"
      },
      "execution_count": 70,
      "outputs": []
    },
    {
      "cell_type": "code",
      "source": [
        "df['Num_of_Delayed_Payment'] = df['Num_of_Delayed_Payment'].apply(pd.to_numeric)"
      ],
      "metadata": {
        "id": "7KK1lCbNIOrB"
      },
      "execution_count": 71,
      "outputs": []
    },
    {
      "cell_type": "markdown",
      "source": [
        "## Changed Credit Card Column Fixing"
      ],
      "metadata": {
        "id": "P9o3nPwdjs2O"
      }
    },
    {
      "cell_type": "code",
      "source": [
        "df['Changed_Credit_Limit'] = df['Changed_Credit_Limit'].replace({'_':np.nan})"
      ],
      "metadata": {
        "id": "nVn8lx_qKyqs"
      },
      "execution_count": 72,
      "outputs": []
    },
    {
      "cell_type": "code",
      "source": [
        "df['Changed_Credit_Limit'] = df['Changed_Credit_Limit'].ffill()"
      ],
      "metadata": {
        "id": "d-fZlNJsIh30"
      },
      "execution_count": 73,
      "outputs": []
    },
    {
      "cell_type": "code",
      "source": [
        "df['Changed_Credit_Limit'] = df['Changed_Credit_Limit'].apply(pd.to_numeric)"
      ],
      "metadata": {
        "id": "vdetndCEKlOk"
      },
      "execution_count": 74,
      "outputs": []
    },
    {
      "cell_type": "markdown",
      "source": [
        "## Number of Credit Inquiries Column Fixing"
      ],
      "metadata": {
        "id": "L4dSweW_jnAJ"
      }
    },
    {
      "cell_type": "code",
      "source": [
        "df['Num_Credit_Inquiries'].dtype"
      ],
      "metadata": {
        "id": "8B_PDhiznVJ4",
        "colab": {
          "base_uri": "https://localhost:8080/"
        },
        "outputId": "23a4f4d3-0052-4307-fbaf-ab21595a7d75"
      },
      "execution_count": 75,
      "outputs": [
        {
          "output_type": "execute_result",
          "data": {
            "text/plain": [
              "dtype('float64')"
            ]
          },
          "metadata": {},
          "execution_count": 75
        }
      ]
    },
    {
      "cell_type": "code",
      "source": [
        "for i in range(100000):\n",
        "  if df.loc[i,'Num_Credit_Inquiries'] > 20:\n",
        "    df.loc[i,'Num_Credit_Inquiries'] = np.nan"
      ],
      "metadata": {
        "id": "4SCfZy-TKpVy"
      },
      "execution_count": 76,
      "outputs": []
    },
    {
      "cell_type": "code",
      "source": [
        "df['Num_Credit_Inquiries'] = df['Num_Credit_Inquiries'].ffill()"
      ],
      "metadata": {
        "id": "TmLyXnUqncOb"
      },
      "execution_count": 77,
      "outputs": []
    },
    {
      "cell_type": "code",
      "source": [
        "df['Num_Credit_Inquiries'].max()"
      ],
      "metadata": {
        "id": "VbDhdHLSoNvB",
        "colab": {
          "base_uri": "https://localhost:8080/"
        },
        "outputId": "0fdf7f93-fbcb-4054-d601-95297838c88b"
      },
      "execution_count": 78,
      "outputs": [
        {
          "output_type": "execute_result",
          "data": {
            "text/plain": [
              "17.0"
            ]
          },
          "metadata": {},
          "execution_count": 78
        }
      ]
    },
    {
      "cell_type": "code",
      "source": [
        "df.info()"
      ],
      "metadata": {
        "id": "bH9LPXQzoQIj",
        "colab": {
          "base_uri": "https://localhost:8080/"
        },
        "outputId": "6a0ab193-3bce-4a36-f396-7fa1af359167"
      },
      "execution_count": 79,
      "outputs": [
        {
          "output_type": "stream",
          "name": "stdout",
          "text": [
            "<class 'pandas.core.frame.DataFrame'>\n",
            "RangeIndex: 100000 entries, 0 to 99999\n",
            "Data columns (total 29 columns):\n",
            " #   Column                    Non-Null Count   Dtype  \n",
            "---  ------                    --------------   -----  \n",
            " 0   Unnamed: 0                100000 non-null  int64  \n",
            " 1   ID                        100000 non-null  object \n",
            " 2   Customer_ID               100000 non-null  object \n",
            " 3   Month                     100000 non-null  object \n",
            " 4   Name                      100000 non-null  object \n",
            " 5   Age                       100000 non-null  int64  \n",
            " 6   SSN                       100000 non-null  object \n",
            " 7   Occupation                100000 non-null  object \n",
            " 8   Annual_Income             100000 non-null  object \n",
            " 9   Monthly_Inhand_Salary     100000 non-null  float64\n",
            " 10  Num_Bank_Accounts         100000 non-null  int64  \n",
            " 11  Num_Credit_Card           100000 non-null  int64  \n",
            " 12  Interest_Rate             100000 non-null  int64  \n",
            " 13  Num_of_Loan               100000 non-null  object \n",
            " 14  Type_of_Loan              100000 non-null  object \n",
            " 15  Delay_from_due_date       100000 non-null  int64  \n",
            " 16  Num_of_Delayed_Payment    100000 non-null  int64  \n",
            " 17  Changed_Credit_Limit      100000 non-null  float64\n",
            " 18  Num_Credit_Inquiries      100000 non-null  float64\n",
            " 19  Credit_Mix                100000 non-null  object \n",
            " 20  Outstanding_Debt          100000 non-null  object \n",
            " 21  Credit_Utilization_Ratio  100000 non-null  float64\n",
            " 22  Credit_History_Age        100000 non-null  object \n",
            " 23  Payment_of_Min_Amount     100000 non-null  object \n",
            " 24  Total_EMI_per_month       100000 non-null  float64\n",
            " 25  Amount_invested_monthly   100000 non-null  float64\n",
            " 26  Payment_Behaviour         100000 non-null  object \n",
            " 27  Monthly_Balance           100000 non-null  object \n",
            " 28  Credit_Score              100000 non-null  object \n",
            "dtypes: float64(6), int64(7), object(16)\n",
            "memory usage: 22.1+ MB\n"
          ]
        }
      ]
    },
    {
      "cell_type": "markdown",
      "source": [
        "## Fixing Type Of Columns"
      ],
      "metadata": {
        "id": "zCCEOVHpV5cC"
      }
    },
    {
      "cell_type": "code",
      "source": [
        "def typecast(col='None'):\n",
        "  df[col] = df[col].apply(pd.to_numeric)"
      ],
      "metadata": {
        "id": "60XChLBYpo_Z"
      },
      "execution_count": 80,
      "outputs": []
    },
    {
      "cell_type": "code",
      "source": [
        "typecast('Num_of_Loan')"
      ],
      "metadata": {
        "id": "0mVW2iAWo4dx"
      },
      "execution_count": 81,
      "outputs": []
    },
    {
      "cell_type": "code",
      "source": [
        "for i in range(df.shape[0]):\n",
        "  if df.loc[i,'Outstanding_Debt'][-1] == '_':\n",
        "    df.loc[i,'Outstanding_Debt'] = df.loc[i,'Outstanding_Debt'][:-1]"
      ],
      "metadata": {
        "id": "WsdXvCXjpc6-"
      },
      "execution_count": 82,
      "outputs": []
    },
    {
      "cell_type": "code",
      "source": [
        "typecast('Outstanding_Debt')"
      ],
      "metadata": {
        "id": "E3xaEIeVp1ky"
      },
      "execution_count": 83,
      "outputs": []
    },
    {
      "cell_type": "code",
      "source": [
        "for i in range(df.shape[0]):\n",
        "  if str(df.loc[i,'Monthly_Balance'])[-2:] == '__':\n",
        "    df.loc[i,'Monthly_Balance'] = np.nan"
      ],
      "metadata": {
        "id": "gXv-vHqkqVv4"
      },
      "execution_count": 89,
      "outputs": []
    },
    {
      "cell_type": "code",
      "source": [
        "df['Monthly_Balance'] = df['Monthly_Balance'].ffill()"
      ],
      "metadata": {
        "id": "uMeJLcAIrgZ0"
      },
      "execution_count": 90,
      "outputs": []
    },
    {
      "cell_type": "code",
      "source": [
        "typecast('Monthly_Balance')"
      ],
      "metadata": {
        "id": "7kfy859WxAno"
      },
      "execution_count": 91,
      "outputs": []
    },
    {
      "cell_type": "code",
      "source": [
        "for i in range(df.shape[0]):\n",
        "  if df.loc[i,'Annual_Income'][-1] == '_':\n",
        "    df.loc[i,'Annual_Income'] = df.loc[i,'Annual_Income'][:-1]"
      ],
      "metadata": {
        "id": "79wWamaDwtUa"
      },
      "execution_count": 92,
      "outputs": []
    },
    {
      "cell_type": "code",
      "source": [
        "typecast('Annual_Income')"
      ],
      "metadata": {
        "id": "Om0k7anJwTJv"
      },
      "execution_count": 93,
      "outputs": []
    },
    {
      "cell_type": "code",
      "source": [
        "df.info()"
      ],
      "metadata": {
        "id": "dCCG9SItwotP",
        "colab": {
          "base_uri": "https://localhost:8080/"
        },
        "outputId": "05ecb8ab-e224-4488-eef9-b407842502c2"
      },
      "execution_count": 94,
      "outputs": [
        {
          "output_type": "stream",
          "name": "stdout",
          "text": [
            "<class 'pandas.core.frame.DataFrame'>\n",
            "RangeIndex: 100000 entries, 0 to 99999\n",
            "Data columns (total 29 columns):\n",
            " #   Column                    Non-Null Count   Dtype  \n",
            "---  ------                    --------------   -----  \n",
            " 0   Unnamed: 0                100000 non-null  int64  \n",
            " 1   ID                        100000 non-null  object \n",
            " 2   Customer_ID               100000 non-null  object \n",
            " 3   Month                     100000 non-null  object \n",
            " 4   Name                      100000 non-null  object \n",
            " 5   Age                       100000 non-null  int64  \n",
            " 6   SSN                       100000 non-null  object \n",
            " 7   Occupation                100000 non-null  object \n",
            " 8   Annual_Income             100000 non-null  float64\n",
            " 9   Monthly_Inhand_Salary     100000 non-null  float64\n",
            " 10  Num_Bank_Accounts         100000 non-null  int64  \n",
            " 11  Num_Credit_Card           100000 non-null  int64  \n",
            " 12  Interest_Rate             100000 non-null  int64  \n",
            " 13  Num_of_Loan               100000 non-null  int64  \n",
            " 14  Type_of_Loan              100000 non-null  object \n",
            " 15  Delay_from_due_date       100000 non-null  int64  \n",
            " 16  Num_of_Delayed_Payment    100000 non-null  int64  \n",
            " 17  Changed_Credit_Limit      100000 non-null  float64\n",
            " 18  Num_Credit_Inquiries      100000 non-null  float64\n",
            " 19  Credit_Mix                100000 non-null  object \n",
            " 20  Outstanding_Debt          100000 non-null  float64\n",
            " 21  Credit_Utilization_Ratio  100000 non-null  float64\n",
            " 22  Credit_History_Age        100000 non-null  object \n",
            " 23  Payment_of_Min_Amount     100000 non-null  object \n",
            " 24  Total_EMI_per_month       100000 non-null  float64\n",
            " 25  Amount_invested_monthly   100000 non-null  float64\n",
            " 26  Payment_Behaviour         100000 non-null  object \n",
            " 27  Monthly_Balance           100000 non-null  float64\n",
            " 28  Credit_Score              100000 non-null  object \n",
            "dtypes: float64(9), int64(8), object(12)\n",
            "memory usage: 22.1+ MB\n"
          ]
        }
      ]
    },
    {
      "cell_type": "code",
      "source": [
        "df.to_csv('train_final.csv')"
      ],
      "metadata": {
        "id": "qpT27voTPTN2"
      },
      "execution_count": 95,
      "outputs": []
    }
  ],
  "metadata": {
    "colab": {
      "name": "TransUnion Data Cleaning.ipynb",
      "provenance": [],
      "collapsed_sections": [],
      "authorship_tag": "ABX9TyOAdDcO2cwUb4HR/rhRs5xx",
      "include_colab_link": true
    },
    "kernelspec": {
      "display_name": "Python 3",
      "name": "python3"
    },
    "language_info": {
      "name": "python"
    },
    "accelerator": "GPU",
    "gpuClass": "standard"
  },
  "nbformat": 4,
  "nbformat_minor": 0
}